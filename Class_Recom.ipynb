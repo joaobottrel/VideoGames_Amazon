{
  "nbformat": 4,
  "nbformat_minor": 0,
  "metadata": {
    "colab": {
      "name": "Class_Recom.ipynb",
      "provenance": [],
      "collapsed_sections": [],
      "authorship_tag": "ABX9TyOXC1nCfjT2L8ZENKlIgvlR"
    },
    "kernelspec": {
      "name": "python3",
      "display_name": "Python 3"
    },
    "language_info": {
      "name": "python"
    }
  },
  "cells": [
    {
      "cell_type": "markdown",
      "source": [
        "#0. Introdução"
      ],
      "metadata": {
        "id": "4DTkQseurLde"
      }
    },
    {
      "cell_type": "markdown",
      "source": [
        "##0.1 Contexto"
      ],
      "metadata": {
        "id": "R0CDhf9ZqIDq"
      }
    },
    {
      "cell_type": "markdown",
      "source": [
        "O CEO da Amazon contratou um time de cientistas de dados\n",
        "para trabalhar em diferentes vertentes da empresa, e você\n",
        "ficou encarregado de fazer um sistema de recomendação para\n",
        "os clientes Amazon. Para isso, te deram acesso à uma base de\n",
        "dados não muito estruturada em Json: um arquivo de\n",
        "metadata com informações dos produtos e outro com as\n",
        "avaliações."
      ],
      "metadata": {
        "id": "XpwKrbvnqHYZ"
      }
    },
    {
      "cell_type": "markdown",
      "source": [
        "##0.2 Projeto"
      ],
      "metadata": {
        "id": "MSdRoeQ1qQ8-"
      }
    },
    {
      "cell_type": "markdown",
      "source": [
        "* O CEO deseja que seu algoritmo de recomendação seja\n",
        "exclusivamente em cima de avaliações verificadas (campo\n",
        "`verified`=True no arquivo de avaliações). \n",
        "*Contudo, há uma base sem classificação e que o CEO faz questão de que seja\n",
        "adicionada no sistema de recomendação (valores com missing\n",
        "value na coluna `verified`). Para isso, será preciso classificar\n",
        "se estas avaliações são verificadas ou não, e no caso positivo,\n",
        "adicioná-los no sistema de recomendação.\n",
        "* Adicionalmente, o CEO também deseja saber de possíveis\n",
        "associações e/ou correlações nesta base de dados.\n",
        "* Carregar, limpar e fazer análises exploratórias no banco de\n",
        "dados fornecido;\n",
        "* Classificar a base sem informação para incluir as observações\n",
        "das avaliações verificadas no sistema de recomendação;\n",
        "* Desenvolver e entregar um sistema de recomendação, com\n",
        "exemplos de aplicação."
      ],
      "metadata": {
        "id": "c8oX1oNCqPp0"
      }
    },
    {
      "cell_type": "markdown",
      "source": [
        "##0.3 Importando as Bibliotecas necessárias"
      ],
      "metadata": {
        "id": "djhq3kwJruTk"
      }
    },
    {
      "cell_type": "code",
      "execution_count": 1,
      "metadata": {
        "id": "8FFyw33LoL7R"
      },
      "outputs": [],
      "source": [
        "# Bibliotecas Gerais\n",
        "import pandas as pd\n",
        "import numpy as np\n",
        "import matplotlib.pyplot as plt\n",
        "import seaborn as sns\n",
        "from google.colab              import drive\n",
        "\n",
        "# Bibliotecas Classificação\n",
        "from sklearn.model_selection       import train_test_split, GridSearchCV\n",
        "from sklearn.model_selection       import RandomizedSearchCV\n",
        "from sklearn                       import metrics\n",
        "from sklearn.preprocessing         import MinMaxScaler\n",
        "from sklearn.neighbors             import KNeighborsClassifier\n",
        "from sklearn.linear_model          import LogisticRegression\n",
        "from sklearn.tree                  import DecisionTreeClassifier\n",
        "from sklearn.ensemble              import RandomForestClassifier\n",
        "from sklearn.naive_bayes           import GaussianNB, MultinomialNB, ComplementNB, BernoulliNB\n",
        "from sklearn.svm                   import SVC\n",
        "from sklearn.neural_network        import MLPClassifier\n",
        "from sklearn.metrics               import accuracy_score, precision_score, f1_score, recall_score\n",
        "from sklearn.metrics               import classification_report\n",
        "from sklearn.metrics               import plot_confusion_matrix\n",
        "from sklearn.metrics               import plot_roc_curve\n",
        "\n",
        "# Bibliotecas de Recomendação\n",
        "from sklearn.metrics.pairwise      import cosine_similarity\n",
        "\n",
        "# Redução de Dimensionalidade\n",
        "from sklearn.decomposition           import PCA\n",
        "from sklearn.decomposition           import TruncatedSVD\n",
        "from sklearn.feature_extraction.text import TfidfVectorizer"
      ]
    },
    {
      "cell_type": "markdown",
      "source": [
        "##0.4 Importando os Datasets"
      ],
      "metadata": {
        "id": "XVnExTg2w3tZ"
      }
    },
    {
      "cell_type": "code",
      "source": [
        "drive.mount('/content/gdrive', force_remount=True)"
      ],
      "metadata": {
        "colab": {
          "base_uri": "https://localhost:8080/"
        },
        "id": "kcTAp-HLsLCV",
        "outputId": "01ae5431-ca08-4c86-a981-b85bc9884369"
      },
      "execution_count": 2,
      "outputs": [
        {
          "output_type": "stream",
          "name": "stdout",
          "text": [
            "Mounted at /content/gdrive\n"
          ]
        }
      ]
    },
    {
      "cell_type": "code",
      "source": [
        "path = '/content/gdrive/MyDrive/Colab Notebooks/Bases/meta_Video_Games.json'\n",
        "df1= pd.read_json(path,lines=True)\n",
        "df01 = df1.copy()"
      ],
      "metadata": {
        "id": "W0HZ6P9puQxZ"
      },
      "execution_count": 3,
      "outputs": []
    },
    {
      "cell_type": "code",
      "source": [
        "path = '/content/gdrive/MyDrive/Colab Notebooks/Bases/Video_Games_sample.json'\n",
        "df2= pd.read_json(path,lines=True)\n",
        "df02 = df2.copy()"
      ],
      "metadata": {
        "id": "Qu5-q8DKumdz"
      },
      "execution_count": 4,
      "outputs": []
    },
    {
      "cell_type": "code",
      "source": [
        "df01.head()"
      ],
      "metadata": {
        "colab": {
          "base_uri": "https://localhost:8080/",
          "height": 649
        },
        "id": "kMCWgi7hu0ih",
        "outputId": "b59a4757-770f-48c6-e2f4-fe97a740c7e3"
      },
      "execution_count": 5,
      "outputs": [
        {
          "output_type": "execute_result",
          "data": {
            "text/html": [
              "<div>\n",
              "<style scoped>\n",
              "    .dataframe tbody tr th:only-of-type {\n",
              "        vertical-align: middle;\n",
              "    }\n",
              "\n",
              "    .dataframe tbody tr th {\n",
              "        vertical-align: top;\n",
              "    }\n",
              "\n",
              "    .dataframe thead th {\n",
              "        text-align: right;\n",
              "    }\n",
              "</style>\n",
              "<table border=\"1\" class=\"dataframe\">\n",
              "  <thead>\n",
              "    <tr style=\"text-align: right;\">\n",
              "      <th></th>\n",
              "      <th>category</th>\n",
              "      <th>tech1</th>\n",
              "      <th>description</th>\n",
              "      <th>fit</th>\n",
              "      <th>title</th>\n",
              "      <th>also_buy</th>\n",
              "      <th>tech2</th>\n",
              "      <th>brand</th>\n",
              "      <th>feature</th>\n",
              "      <th>rank</th>\n",
              "      <th>also_view</th>\n",
              "      <th>main_cat</th>\n",
              "      <th>similar_item</th>\n",
              "      <th>date</th>\n",
              "      <th>price</th>\n",
              "      <th>asin</th>\n",
              "      <th>imageURL</th>\n",
              "      <th>imageURLHighRes</th>\n",
              "      <th>details</th>\n",
              "    </tr>\n",
              "  </thead>\n",
              "  <tbody>\n",
              "    <tr>\n",
              "      <th>0</th>\n",
              "      <td>[Video Games, PC, Games]</td>\n",
              "      <td></td>\n",
              "      <td>[]</td>\n",
              "      <td></td>\n",
              "      <td>Reversi Sensory Challenger</td>\n",
              "      <td>[]</td>\n",
              "      <td></td>\n",
              "      <td>Fidelity Electronics</td>\n",
              "      <td>[]</td>\n",
              "      <td>[&gt;#2,623,937 in Toys &amp;amp; Games (See Top 100 ...</td>\n",
              "      <td>[]</td>\n",
              "      <td>Toys &amp;amp; Games</td>\n",
              "      <td></td>\n",
              "      <td></td>\n",
              "      <td></td>\n",
              "      <td>0042000742</td>\n",
              "      <td>[https://images-na.ssl-images-amazon.com/image...</td>\n",
              "      <td>[https://images-na.ssl-images-amazon.com/image...</td>\n",
              "      <td>NaN</td>\n",
              "    </tr>\n",
              "    <tr>\n",
              "      <th>1</th>\n",
              "      <td>[Video Games, Xbox 360, Games, &lt;/span&gt;&lt;/span&gt;&lt;...</td>\n",
              "      <td></td>\n",
              "      <td>[Brand new sealed!]</td>\n",
              "      <td></td>\n",
              "      <td>Medal of Honor: Warfighter - Includes Battlefi...</td>\n",
              "      <td>[B00PADROYW]</td>\n",
              "      <td></td>\n",
              "      <td>by\\n    \\n    EA Games</td>\n",
              "      <td>[]</td>\n",
              "      <td>[&gt;#67,231 in Video Games (See Top 100 in Video...</td>\n",
              "      <td>[B0050SY5BM, B072NQJCW5, B000TI836G, B002SRSQ7...</td>\n",
              "      <td>Video Games</td>\n",
              "      <td></td>\n",
              "      <td></td>\n",
              "      <td>\\n\\t\\t\\t\\t\\t\\t\\t\\t\\t\\t\\t\\t&lt;span class=\"vertica...</td>\n",
              "      <td>0078764343</td>\n",
              "      <td>[https://images-na.ssl-images-amazon.com/image...</td>\n",
              "      <td>[https://images-na.ssl-images-amazon.com/image...</td>\n",
              "      <td>NaN</td>\n",
              "    </tr>\n",
              "    <tr>\n",
              "      <th>2</th>\n",
              "      <td>[Video Games, Retro Gaming &amp; Microconsoles, Su...</td>\n",
              "      <td></td>\n",
              "      <td>[]</td>\n",
              "      <td></td>\n",
              "      <td>street fighter 2 II turbo super nintendo snes ...</td>\n",
              "      <td>[]</td>\n",
              "      <td></td>\n",
              "      <td>Nintendo</td>\n",
              "      <td>[]</td>\n",
              "      <td>[&gt;#134,433 in Video Games (See Top 100 in Vide...</td>\n",
              "      <td>[]</td>\n",
              "      <td>Video Games</td>\n",
              "      <td></td>\n",
              "      <td></td>\n",
              "      <td>$0.72</td>\n",
              "      <td>0276425316</td>\n",
              "      <td>[]</td>\n",
              "      <td>[]</td>\n",
              "      <td>NaN</td>\n",
              "    </tr>\n",
              "    <tr>\n",
              "      <th>3</th>\n",
              "      <td>[Video Games, Xbox 360, Accessories, Controlle...</td>\n",
              "      <td></td>\n",
              "      <td>[MAS's Pro Xbox 360 Stick (Perfect 360 Stick) ...</td>\n",
              "      <td></td>\n",
              "      <td>Xbox 360 MAS STICK</td>\n",
              "      <td>[]</td>\n",
              "      <td></td>\n",
              "      <td>by\\n    \\n    MAS SYSTEMS</td>\n",
              "      <td>[Original PCB used from Xbox 360 Control Pad (...</td>\n",
              "      <td>[&gt;#105,263 in Video Games (See Top 100 in Vide...</td>\n",
              "      <td>[]</td>\n",
              "      <td>Video Games</td>\n",
              "      <td></td>\n",
              "      <td></td>\n",
              "      <td></td>\n",
              "      <td>0324411812</td>\n",
              "      <td>[https://images-na.ssl-images-amazon.com/image...</td>\n",
              "      <td>[https://images-na.ssl-images-amazon.com/image...</td>\n",
              "      <td>NaN</td>\n",
              "    </tr>\n",
              "    <tr>\n",
              "      <th>4</th>\n",
              "      <td>[Video Games, PC, Games, &lt;/span&gt;&lt;/span&gt;&lt;/span&gt;...</td>\n",
              "      <td></td>\n",
              "      <td>[Phonics Alive! 3, The Speller teaches student...</td>\n",
              "      <td></td>\n",
              "      <td>Phonics Alive! 3: The Speller</td>\n",
              "      <td>[]</td>\n",
              "      <td></td>\n",
              "      <td>by\\n    \\n    Advanced Software Pty. Ltd.</td>\n",
              "      <td>[Grades 2-12, Spelling Program, Teaches Spelli...</td>\n",
              "      <td>[&gt;#92,397 in Video Games (See Top 100 in Video...</td>\n",
              "      <td>[B000BCZ7U0]</td>\n",
              "      <td>Video Games</td>\n",
              "      <td></td>\n",
              "      <td></td>\n",
              "      <td></td>\n",
              "      <td>0439335310</td>\n",
              "      <td>[https://images-na.ssl-images-amazon.com/image...</td>\n",
              "      <td>[https://images-na.ssl-images-amazon.com/image...</td>\n",
              "      <td>NaN</td>\n",
              "    </tr>\n",
              "  </tbody>\n",
              "</table>\n",
              "</div>"
            ],
            "text/plain": [
              "                                            category  ... details\n",
              "0                           [Video Games, PC, Games]  ...     NaN\n",
              "1  [Video Games, Xbox 360, Games, </span></span><...  ...     NaN\n",
              "2  [Video Games, Retro Gaming & Microconsoles, Su...  ...     NaN\n",
              "3  [Video Games, Xbox 360, Accessories, Controlle...  ...     NaN\n",
              "4  [Video Games, PC, Games, </span></span></span>...  ...     NaN\n",
              "\n",
              "[5 rows x 19 columns]"
            ]
          },
          "metadata": {},
          "execution_count": 5
        }
      ]
    },
    {
      "cell_type": "code",
      "source": [
        "df02.head()"
      ],
      "metadata": {
        "colab": {
          "base_uri": "https://localhost:8080/",
          "height": 204
        },
        "id": "qXxCw5Bwu7Tf",
        "outputId": "fb9c5d87-17e0-43f8-8d03-49aa901e4839"
      },
      "execution_count": 6,
      "outputs": [
        {
          "output_type": "execute_result",
          "data": {
            "text/html": [
              "<div>\n",
              "<style scoped>\n",
              "    .dataframe tbody tr th:only-of-type {\n",
              "        vertical-align: middle;\n",
              "    }\n",
              "\n",
              "    .dataframe tbody tr th {\n",
              "        vertical-align: top;\n",
              "    }\n",
              "\n",
              "    .dataframe thead th {\n",
              "        text-align: right;\n",
              "    }\n",
              "</style>\n",
              "<table border=\"1\" class=\"dataframe\">\n",
              "  <thead>\n",
              "    <tr style=\"text-align: right;\">\n",
              "      <th></th>\n",
              "      <th>overall</th>\n",
              "      <th>reviewTime</th>\n",
              "      <th>reviewerID</th>\n",
              "      <th>asin</th>\n",
              "      <th>style</th>\n",
              "      <th>reviewerName</th>\n",
              "      <th>reviewText</th>\n",
              "      <th>summary</th>\n",
              "      <th>unixReviewTime</th>\n",
              "      <th>verified</th>\n",
              "      <th>vote</th>\n",
              "      <th>image</th>\n",
              "    </tr>\n",
              "  </thead>\n",
              "  <tbody>\n",
              "    <tr>\n",
              "      <th>0</th>\n",
              "      <td>1</td>\n",
              "      <td>01 2, 2018</td>\n",
              "      <td>A16FEXIKAPT24U</td>\n",
              "      <td>B00000JRSB</td>\n",
              "      <td>{'Format:': ' Video Game'}</td>\n",
              "      <td>Nicholas Sabin</td>\n",
              "      <td>Game disc was cracked thats pretty lame</td>\n",
              "      <td>Game disc 1 was cracked</td>\n",
              "      <td>1514851200</td>\n",
              "      <td>NaN</td>\n",
              "      <td>NaN</td>\n",
              "      <td>NaN</td>\n",
              "    </tr>\n",
              "    <tr>\n",
              "      <th>1</th>\n",
              "      <td>5</td>\n",
              "      <td>01 2, 2018</td>\n",
              "      <td>A3ISBEPYLY8IMO</td>\n",
              "      <td>B00000JRSB</td>\n",
              "      <td>{'Format:': ' Video Game'}</td>\n",
              "      <td>Jimmy</td>\n",
              "      <td>Received this in perfect condition. Great rese...</td>\n",
              "      <td>Received this in perfect condition. Great rese...</td>\n",
              "      <td>1514851200</td>\n",
              "      <td>1.0</td>\n",
              "      <td>NaN</td>\n",
              "      <td>NaN</td>\n",
              "    </tr>\n",
              "    <tr>\n",
              "      <th>2</th>\n",
              "      <td>5</td>\n",
              "      <td>12 21, 2017</td>\n",
              "      <td>A1RIUB1PZWLOVZ</td>\n",
              "      <td>B00000JRSB</td>\n",
              "      <td>{'Format:': ' Video Game'}</td>\n",
              "      <td>Amazon Customer</td>\n",
              "      <td>I had a hard time finding this game locally or...</td>\n",
              "      <td>I am very pleased with this purchase</td>\n",
              "      <td>1513814400</td>\n",
              "      <td>1.0</td>\n",
              "      <td>NaN</td>\n",
              "      <td>NaN</td>\n",
              "    </tr>\n",
              "    <tr>\n",
              "      <th>3</th>\n",
              "      <td>5</td>\n",
              "      <td>12 20, 2017</td>\n",
              "      <td>A2VY0K54SOCG0F</td>\n",
              "      <td>B00000JRSB</td>\n",
              "      <td>{'Format:': ' Video Game'}</td>\n",
              "      <td>Oscentatious</td>\n",
              "      <td>This game is just as amazing as the first time...</td>\n",
              "      <td>This is the best deal for this game</td>\n",
              "      <td>1513728000</td>\n",
              "      <td>0.0</td>\n",
              "      <td>NaN</td>\n",
              "      <td>NaN</td>\n",
              "    </tr>\n",
              "    <tr>\n",
              "      <th>4</th>\n",
              "      <td>5</td>\n",
              "      <td>12 19, 2017</td>\n",
              "      <td>A1ABJQ2REV14OQ</td>\n",
              "      <td>B00000JRSB</td>\n",
              "      <td>{'Format:': ' Video Game'}</td>\n",
              "      <td>Thiago</td>\n",
              "      <td>I bought as a gift for my friend, she is so ex...</td>\n",
              "      <td>Loved by lots of people</td>\n",
              "      <td>1513641600</td>\n",
              "      <td>1.0</td>\n",
              "      <td>NaN</td>\n",
              "      <td>NaN</td>\n",
              "    </tr>\n",
              "  </tbody>\n",
              "</table>\n",
              "</div>"
            ],
            "text/plain": [
              "   overall   reviewTime      reviewerID  ... verified vote image\n",
              "0        1   01 2, 2018  A16FEXIKAPT24U  ...      NaN  NaN   NaN\n",
              "1        5   01 2, 2018  A3ISBEPYLY8IMO  ...      1.0  NaN   NaN\n",
              "2        5  12 21, 2017  A1RIUB1PZWLOVZ  ...      1.0  NaN   NaN\n",
              "3        5  12 20, 2017  A2VY0K54SOCG0F  ...      0.0  NaN   NaN\n",
              "4        5  12 19, 2017  A1ABJQ2REV14OQ  ...      1.0  NaN   NaN\n",
              "\n",
              "[5 rows x 12 columns]"
            ]
          },
          "metadata": {},
          "execution_count": 6
        }
      ]
    },
    {
      "cell_type": "markdown",
      "source": [
        "#1. Análise inicial dos dados"
      ],
      "metadata": {
        "id": "10WJZg_Ex0pg"
      }
    },
    {
      "cell_type": "code",
      "source": [
        "df = df01.merge(df02, on = ['asin'])"
      ],
      "metadata": {
        "id": "M_pgF3vRvAmT"
      },
      "execution_count": 7,
      "outputs": []
    },
    {
      "cell_type": "code",
      "source": [
        "df.head()"
      ],
      "metadata": {
        "colab": {
          "base_uri": "https://localhost:8080/",
          "height": 734
        },
        "id": "yu3SW3Uyvfqg",
        "outputId": "b1b0d100-2349-4ec8-9408-d12e001436ab"
      },
      "execution_count": 8,
      "outputs": [
        {
          "output_type": "execute_result",
          "data": {
            "text/html": [
              "<div>\n",
              "<style scoped>\n",
              "    .dataframe tbody tr th:only-of-type {\n",
              "        vertical-align: middle;\n",
              "    }\n",
              "\n",
              "    .dataframe tbody tr th {\n",
              "        vertical-align: top;\n",
              "    }\n",
              "\n",
              "    .dataframe thead th {\n",
              "        text-align: right;\n",
              "    }\n",
              "</style>\n",
              "<table border=\"1\" class=\"dataframe\">\n",
              "  <thead>\n",
              "    <tr style=\"text-align: right;\">\n",
              "      <th></th>\n",
              "      <th>category</th>\n",
              "      <th>tech1</th>\n",
              "      <th>description</th>\n",
              "      <th>fit</th>\n",
              "      <th>title</th>\n",
              "      <th>also_buy</th>\n",
              "      <th>tech2</th>\n",
              "      <th>brand</th>\n",
              "      <th>feature</th>\n",
              "      <th>rank</th>\n",
              "      <th>also_view</th>\n",
              "      <th>main_cat</th>\n",
              "      <th>similar_item</th>\n",
              "      <th>date</th>\n",
              "      <th>price</th>\n",
              "      <th>asin</th>\n",
              "      <th>imageURL</th>\n",
              "      <th>imageURLHighRes</th>\n",
              "      <th>details</th>\n",
              "      <th>overall</th>\n",
              "      <th>reviewTime</th>\n",
              "      <th>reviewerID</th>\n",
              "      <th>style</th>\n",
              "      <th>reviewerName</th>\n",
              "      <th>reviewText</th>\n",
              "      <th>summary</th>\n",
              "      <th>unixReviewTime</th>\n",
              "      <th>verified</th>\n",
              "      <th>vote</th>\n",
              "      <th>image</th>\n",
              "    </tr>\n",
              "  </thead>\n",
              "  <tbody>\n",
              "    <tr>\n",
              "      <th>0</th>\n",
              "      <td>[Video Games, Retro Gaming &amp;amp; Microconsoles...</td>\n",
              "      <td></td>\n",
              "      <td>[Long recognized as role-playing games par exc...</td>\n",
              "      <td></td>\n",
              "      <td>Final Fantasy VII</td>\n",
              "      <td>[B0000296O5, B00004Y57G, B00002R28C, B0045L3SN...</td>\n",
              "      <td></td>\n",
              "      <td>SquareSoft</td>\n",
              "      <td>[1 Player, RPG, 3 Disc Set, Excellent graphics...</td>\n",
              "      <td>[&gt;#5,076 in Video Games (See Top 100 in Video ...</td>\n",
              "      <td>[B00004Y57G, B00004TC6E, B00ZS80PC2, B0000296O...</td>\n",
              "      <td>Video Games</td>\n",
              "      <td></td>\n",
              "      <td></td>\n",
              "      <td>$164.91</td>\n",
              "      <td>B00000JRSB</td>\n",
              "      <td>[https://images-na.ssl-images-amazon.com/image...</td>\n",
              "      <td>[https://images-na.ssl-images-amazon.com/image...</td>\n",
              "      <td>{}</td>\n",
              "      <td>1</td>\n",
              "      <td>01 2, 2018</td>\n",
              "      <td>A16FEXIKAPT24U</td>\n",
              "      <td>{'Format:': ' Video Game'}</td>\n",
              "      <td>Nicholas Sabin</td>\n",
              "      <td>Game disc was cracked thats pretty lame</td>\n",
              "      <td>Game disc 1 was cracked</td>\n",
              "      <td>1514851200</td>\n",
              "      <td>NaN</td>\n",
              "      <td>NaN</td>\n",
              "      <td>NaN</td>\n",
              "    </tr>\n",
              "    <tr>\n",
              "      <th>1</th>\n",
              "      <td>[Video Games, Retro Gaming &amp;amp; Microconsoles...</td>\n",
              "      <td></td>\n",
              "      <td>[Long recognized as role-playing games par exc...</td>\n",
              "      <td></td>\n",
              "      <td>Final Fantasy VII</td>\n",
              "      <td>[B0000296O5, B00004Y57G, B00002R28C, B0045L3SN...</td>\n",
              "      <td></td>\n",
              "      <td>SquareSoft</td>\n",
              "      <td>[1 Player, RPG, 3 Disc Set, Excellent graphics...</td>\n",
              "      <td>[&gt;#5,076 in Video Games (See Top 100 in Video ...</td>\n",
              "      <td>[B00004Y57G, B00004TC6E, B00ZS80PC2, B0000296O...</td>\n",
              "      <td>Video Games</td>\n",
              "      <td></td>\n",
              "      <td></td>\n",
              "      <td>$164.91</td>\n",
              "      <td>B00000JRSB</td>\n",
              "      <td>[https://images-na.ssl-images-amazon.com/image...</td>\n",
              "      <td>[https://images-na.ssl-images-amazon.com/image...</td>\n",
              "      <td>{}</td>\n",
              "      <td>5</td>\n",
              "      <td>01 2, 2018</td>\n",
              "      <td>A3ISBEPYLY8IMO</td>\n",
              "      <td>{'Format:': ' Video Game'}</td>\n",
              "      <td>Jimmy</td>\n",
              "      <td>Received this in perfect condition. Great rese...</td>\n",
              "      <td>Received this in perfect condition. Great rese...</td>\n",
              "      <td>1514851200</td>\n",
              "      <td>1.0</td>\n",
              "      <td>NaN</td>\n",
              "      <td>NaN</td>\n",
              "    </tr>\n",
              "    <tr>\n",
              "      <th>2</th>\n",
              "      <td>[Video Games, Retro Gaming &amp;amp; Microconsoles...</td>\n",
              "      <td></td>\n",
              "      <td>[Long recognized as role-playing games par exc...</td>\n",
              "      <td></td>\n",
              "      <td>Final Fantasy VII</td>\n",
              "      <td>[B0000296O5, B00004Y57G, B00002R28C, B0045L3SN...</td>\n",
              "      <td></td>\n",
              "      <td>SquareSoft</td>\n",
              "      <td>[1 Player, RPG, 3 Disc Set, Excellent graphics...</td>\n",
              "      <td>[&gt;#5,076 in Video Games (See Top 100 in Video ...</td>\n",
              "      <td>[B00004Y57G, B00004TC6E, B00ZS80PC2, B0000296O...</td>\n",
              "      <td>Video Games</td>\n",
              "      <td></td>\n",
              "      <td></td>\n",
              "      <td>$164.91</td>\n",
              "      <td>B00000JRSB</td>\n",
              "      <td>[https://images-na.ssl-images-amazon.com/image...</td>\n",
              "      <td>[https://images-na.ssl-images-amazon.com/image...</td>\n",
              "      <td>{}</td>\n",
              "      <td>5</td>\n",
              "      <td>12 21, 2017</td>\n",
              "      <td>A1RIUB1PZWLOVZ</td>\n",
              "      <td>{'Format:': ' Video Game'}</td>\n",
              "      <td>Amazon Customer</td>\n",
              "      <td>I had a hard time finding this game locally or...</td>\n",
              "      <td>I am very pleased with this purchase</td>\n",
              "      <td>1513814400</td>\n",
              "      <td>1.0</td>\n",
              "      <td>NaN</td>\n",
              "      <td>NaN</td>\n",
              "    </tr>\n",
              "    <tr>\n",
              "      <th>3</th>\n",
              "      <td>[Video Games, Retro Gaming &amp;amp; Microconsoles...</td>\n",
              "      <td></td>\n",
              "      <td>[Long recognized as role-playing games par exc...</td>\n",
              "      <td></td>\n",
              "      <td>Final Fantasy VII</td>\n",
              "      <td>[B0000296O5, B00004Y57G, B00002R28C, B0045L3SN...</td>\n",
              "      <td></td>\n",
              "      <td>SquareSoft</td>\n",
              "      <td>[1 Player, RPG, 3 Disc Set, Excellent graphics...</td>\n",
              "      <td>[&gt;#5,076 in Video Games (See Top 100 in Video ...</td>\n",
              "      <td>[B00004Y57G, B00004TC6E, B00ZS80PC2, B0000296O...</td>\n",
              "      <td>Video Games</td>\n",
              "      <td></td>\n",
              "      <td></td>\n",
              "      <td>$164.91</td>\n",
              "      <td>B00000JRSB</td>\n",
              "      <td>[https://images-na.ssl-images-amazon.com/image...</td>\n",
              "      <td>[https://images-na.ssl-images-amazon.com/image...</td>\n",
              "      <td>{}</td>\n",
              "      <td>5</td>\n",
              "      <td>12 20, 2017</td>\n",
              "      <td>A2VY0K54SOCG0F</td>\n",
              "      <td>{'Format:': ' Video Game'}</td>\n",
              "      <td>Oscentatious</td>\n",
              "      <td>This game is just as amazing as the first time...</td>\n",
              "      <td>This is the best deal for this game</td>\n",
              "      <td>1513728000</td>\n",
              "      <td>0.0</td>\n",
              "      <td>NaN</td>\n",
              "      <td>NaN</td>\n",
              "    </tr>\n",
              "    <tr>\n",
              "      <th>4</th>\n",
              "      <td>[Video Games, Retro Gaming &amp;amp; Microconsoles...</td>\n",
              "      <td></td>\n",
              "      <td>[Long recognized as role-playing games par exc...</td>\n",
              "      <td></td>\n",
              "      <td>Final Fantasy VII</td>\n",
              "      <td>[B0000296O5, B00004Y57G, B00002R28C, B0045L3SN...</td>\n",
              "      <td></td>\n",
              "      <td>SquareSoft</td>\n",
              "      <td>[1 Player, RPG, 3 Disc Set, Excellent graphics...</td>\n",
              "      <td>[&gt;#5,076 in Video Games (See Top 100 in Video ...</td>\n",
              "      <td>[B00004Y57G, B00004TC6E, B00ZS80PC2, B0000296O...</td>\n",
              "      <td>Video Games</td>\n",
              "      <td></td>\n",
              "      <td></td>\n",
              "      <td>$164.91</td>\n",
              "      <td>B00000JRSB</td>\n",
              "      <td>[https://images-na.ssl-images-amazon.com/image...</td>\n",
              "      <td>[https://images-na.ssl-images-amazon.com/image...</td>\n",
              "      <td>{}</td>\n",
              "      <td>5</td>\n",
              "      <td>12 19, 2017</td>\n",
              "      <td>A1ABJQ2REV14OQ</td>\n",
              "      <td>{'Format:': ' Video Game'}</td>\n",
              "      <td>Thiago</td>\n",
              "      <td>I bought as a gift for my friend, she is so ex...</td>\n",
              "      <td>Loved by lots of people</td>\n",
              "      <td>1513641600</td>\n",
              "      <td>1.0</td>\n",
              "      <td>NaN</td>\n",
              "      <td>NaN</td>\n",
              "    </tr>\n",
              "  </tbody>\n",
              "</table>\n",
              "</div>"
            ],
            "text/plain": [
              "                                            category tech1  ... vote image\n",
              "0  [Video Games, Retro Gaming &amp; Microconsoles...        ...  NaN   NaN\n",
              "1  [Video Games, Retro Gaming &amp; Microconsoles...        ...  NaN   NaN\n",
              "2  [Video Games, Retro Gaming &amp; Microconsoles...        ...  NaN   NaN\n",
              "3  [Video Games, Retro Gaming &amp; Microconsoles...        ...  NaN   NaN\n",
              "4  [Video Games, Retro Gaming &amp; Microconsoles...        ...  NaN   NaN\n",
              "\n",
              "[5 rows x 30 columns]"
            ]
          },
          "metadata": {},
          "execution_count": 8
        }
      ]
    },
    {
      "cell_type": "markdown",
      "source": [
        "##1.1 Limpeza e organização dos dados"
      ],
      "metadata": {
        "id": "OOEDg8jqx4u3"
      }
    },
    {
      "cell_type": "markdown",
      "source": [
        "Aqui serão feitas conversões de features, remoção de caracteres indesejáveis"
      ],
      "metadata": {
        "id": "vmTECTjHP_6r"
      }
    },
    {
      "cell_type": "code",
      "source": [
        "df['price'] = df['price'].str.replace('$','')\n",
        "df['brand'] = df['brand'].str.replace('by\\n\\n','')\n",
        "df['brand'] = df['brand'].str.replace(' ', '')\n",
        "df['category'] = df['category'].astype('str')\n",
        "df['category'] = df['category'].str.replace('[', '')\n",
        "df['category'] = df['category'].str.replace(']', '')\n",
        "df['category'] = df['category'].str.replace(' ', '')\n",
        "df['category'] = df['category'].str.replace(';', '.')\n",
        "df['category'] = df['category'].str.replace(',', '.')"
      ],
      "metadata": {
        "id": "fEi_HxYFvg5d"
      },
      "execution_count": 9,
      "outputs": []
    },
    {
      "cell_type": "markdown",
      "source": [
        "Abaixo iremos extrair da coluna category até 5 textos que categorizam o produto"
      ],
      "metadata": {
        "id": "iAK-3o2lQIi6"
      }
    },
    {
      "cell_type": "code",
      "source": [
        "df['Cat1'] = df['category'].str.split('.').str[0]\n",
        "df['Cat2'] = df['category'].str.split('.').str[1]\n",
        "df['Cat3'] = df['category'].str.split('.').str[2]\n",
        "df['Cat4'] = df['category'].str.split('.').str[3]\n",
        "df['Cat5'] = df['category'].str.split('.').str[4]\n",
        "df['category'] = df['category'].astype('category')\n",
        "df['brand']    = df['brand'].astype('category')\n",
        "df['Cat1']  = df['Cat1'].astype('category')\n",
        "df['Cat2']  = df['Cat2'].astype('category')\n",
        "df['Cat3']  = df['Cat3'].astype('category')\n",
        "df['Cat4']  = df['Cat4'].astype('category')\n",
        "df['Cat5']  = df['Cat5'].astype('category')"
      ],
      "metadata": {
        "id": "6Wfhu24XCQUH"
      },
      "execution_count": 10,
      "outputs": []
    },
    {
      "cell_type": "code",
      "source": [
        "df['price'] = pd.to_numeric(df['price'], errors=\"coerce\")"
      ],
      "metadata": {
        "id": "Qs-Rx_mhEgpL"
      },
      "execution_count": 12,
      "outputs": []
    },
    {
      "cell_type": "markdown",
      "source": [
        "Abaixo segue uma verificação de nulos e a remoção de \"image\" e \"vote\" por ter vários valores nulos"
      ],
      "metadata": {
        "id": "RPLS8r3mQbIh"
      }
    },
    {
      "cell_type": "code",
      "source": [
        "pd.DataFrame(df.isnull().sum(axis=0)).sort_values(by=0, ascending=False)/df.shape[0]"
      ],
      "metadata": {
        "colab": {
          "base_uri": "https://localhost:8080/",
          "height": 1000
        },
        "id": "I095ybQxEvwC",
        "outputId": "04471515-2088-4959-e47f-3c1649a14974"
      },
      "execution_count": 14,
      "outputs": [
        {
          "output_type": "execute_result",
          "data": {
            "text/html": [
              "<div>\n",
              "<style scoped>\n",
              "    .dataframe tbody tr th:only-of-type {\n",
              "        vertical-align: middle;\n",
              "    }\n",
              "\n",
              "    .dataframe tbody tr th {\n",
              "        vertical-align: top;\n",
              "    }\n",
              "\n",
              "    .dataframe thead th {\n",
              "        text-align: right;\n",
              "    }\n",
              "</style>\n",
              "<table border=\"1\" class=\"dataframe\">\n",
              "  <thead>\n",
              "    <tr style=\"text-align: right;\">\n",
              "      <th></th>\n",
              "      <th>0</th>\n",
              "    </tr>\n",
              "  </thead>\n",
              "  <tbody>\n",
              "    <tr>\n",
              "      <th>image</th>\n",
              "      <td>0.989856</td>\n",
              "    </tr>\n",
              "    <tr>\n",
              "      <th>vote</th>\n",
              "      <td>0.872242</td>\n",
              "    </tr>\n",
              "    <tr>\n",
              "      <th>price</th>\n",
              "      <td>0.713242</td>\n",
              "    </tr>\n",
              "    <tr>\n",
              "      <th>Cat5</th>\n",
              "      <td>0.585217</td>\n",
              "    </tr>\n",
              "    <tr>\n",
              "      <th>style</th>\n",
              "      <td>0.296429</td>\n",
              "    </tr>\n",
              "    <tr>\n",
              "      <th>verified</th>\n",
              "      <td>0.152242</td>\n",
              "    </tr>\n",
              "    <tr>\n",
              "      <th>Cat4</th>\n",
              "      <td>0.136260</td>\n",
              "    </tr>\n",
              "    <tr>\n",
              "      <th>Cat3</th>\n",
              "      <td>0.028065</td>\n",
              "    </tr>\n",
              "    <tr>\n",
              "      <th>reviewText</th>\n",
              "      <td>0.000750</td>\n",
              "    </tr>\n",
              "    <tr>\n",
              "      <th>summary</th>\n",
              "      <td>0.000365</td>\n",
              "    </tr>\n",
              "    <tr>\n",
              "      <th>reviewerName</th>\n",
              "      <td>0.000109</td>\n",
              "    </tr>\n",
              "    <tr>\n",
              "      <th>reviewTime</th>\n",
              "      <td>0.000000</td>\n",
              "    </tr>\n",
              "    <tr>\n",
              "      <th>reviewerID</th>\n",
              "      <td>0.000000</td>\n",
              "    </tr>\n",
              "    <tr>\n",
              "      <th>unixReviewTime</th>\n",
              "      <td>0.000000</td>\n",
              "    </tr>\n",
              "    <tr>\n",
              "      <th>details</th>\n",
              "      <td>0.000000</td>\n",
              "    </tr>\n",
              "    <tr>\n",
              "      <th>Cat1</th>\n",
              "      <td>0.000000</td>\n",
              "    </tr>\n",
              "    <tr>\n",
              "      <th>Cat2</th>\n",
              "      <td>0.000000</td>\n",
              "    </tr>\n",
              "    <tr>\n",
              "      <th>overall</th>\n",
              "      <td>0.000000</td>\n",
              "    </tr>\n",
              "    <tr>\n",
              "      <th>category</th>\n",
              "      <td>0.000000</td>\n",
              "    </tr>\n",
              "    <tr>\n",
              "      <th>tech1</th>\n",
              "      <td>0.000000</td>\n",
              "    </tr>\n",
              "    <tr>\n",
              "      <th>imageURL</th>\n",
              "      <td>0.000000</td>\n",
              "    </tr>\n",
              "    <tr>\n",
              "      <th>asin</th>\n",
              "      <td>0.000000</td>\n",
              "    </tr>\n",
              "    <tr>\n",
              "      <th>date</th>\n",
              "      <td>0.000000</td>\n",
              "    </tr>\n",
              "    <tr>\n",
              "      <th>similar_item</th>\n",
              "      <td>0.000000</td>\n",
              "    </tr>\n",
              "    <tr>\n",
              "      <th>main_cat</th>\n",
              "      <td>0.000000</td>\n",
              "    </tr>\n",
              "    <tr>\n",
              "      <th>also_view</th>\n",
              "      <td>0.000000</td>\n",
              "    </tr>\n",
              "    <tr>\n",
              "      <th>rank</th>\n",
              "      <td>0.000000</td>\n",
              "    </tr>\n",
              "    <tr>\n",
              "      <th>feature</th>\n",
              "      <td>0.000000</td>\n",
              "    </tr>\n",
              "    <tr>\n",
              "      <th>brand</th>\n",
              "      <td>0.000000</td>\n",
              "    </tr>\n",
              "    <tr>\n",
              "      <th>tech2</th>\n",
              "      <td>0.000000</td>\n",
              "    </tr>\n",
              "    <tr>\n",
              "      <th>also_buy</th>\n",
              "      <td>0.000000</td>\n",
              "    </tr>\n",
              "    <tr>\n",
              "      <th>title</th>\n",
              "      <td>0.000000</td>\n",
              "    </tr>\n",
              "    <tr>\n",
              "      <th>fit</th>\n",
              "      <td>0.000000</td>\n",
              "    </tr>\n",
              "    <tr>\n",
              "      <th>description</th>\n",
              "      <td>0.000000</td>\n",
              "    </tr>\n",
              "    <tr>\n",
              "      <th>imageURLHighRes</th>\n",
              "      <td>0.000000</td>\n",
              "    </tr>\n",
              "  </tbody>\n",
              "</table>\n",
              "</div>"
            ],
            "text/plain": [
              "                        0\n",
              "image            0.989856\n",
              "vote             0.872242\n",
              "price            0.713242\n",
              "Cat5             0.585217\n",
              "style            0.296429\n",
              "verified         0.152242\n",
              "Cat4             0.136260\n",
              "Cat3             0.028065\n",
              "reviewText       0.000750\n",
              "summary          0.000365\n",
              "reviewerName     0.000109\n",
              "reviewTime       0.000000\n",
              "reviewerID       0.000000\n",
              "unixReviewTime   0.000000\n",
              "details          0.000000\n",
              "Cat1             0.000000\n",
              "Cat2             0.000000\n",
              "overall          0.000000\n",
              "category         0.000000\n",
              "tech1            0.000000\n",
              "imageURL         0.000000\n",
              "asin             0.000000\n",
              "date             0.000000\n",
              "similar_item     0.000000\n",
              "main_cat         0.000000\n",
              "also_view        0.000000\n",
              "rank             0.000000\n",
              "feature          0.000000\n",
              "brand            0.000000\n",
              "tech2            0.000000\n",
              "also_buy         0.000000\n",
              "title            0.000000\n",
              "fit              0.000000\n",
              "description      0.000000\n",
              "imageURLHighRes  0.000000"
            ]
          },
          "metadata": {},
          "execution_count": 14
        }
      ]
    },
    {
      "cell_type": "code",
      "source": [
        "df.drop(['image','vote'],axis=1,inplace=True)"
      ],
      "metadata": {
        "id": "EURxfKnNFHpV"
      },
      "execution_count": 15,
      "outputs": []
    },
    {
      "cell_type": "markdown",
      "source": [
        "##1.2 Distribuição das variáveis"
      ],
      "metadata": {
        "id": "Df50v8dFRGJw"
      }
    },
    {
      "cell_type": "markdown",
      "source": [
        "Em seguida uma distribuição dos dados por categorias"
      ],
      "metadata": {
        "id": "iuadWPDIQ8Vy"
      }
    },
    {
      "cell_type": "code",
      "source": [
        "col = ['Cat1','Cat2','Cat3','Cat4','Cat5']\n",
        "ncol = len(col)\n",
        "\n",
        "for i in range(0,ncol):\n",
        "  plt.figure(figsize=(10,10))\n",
        "  fig = sns.histplot(x=col[i],data=df)\n",
        "  fig.set_xticklabels(fig.get_xticklabels(), rotation=45)\n",
        "  plt.show()\n",
        "  plt.close()"
      ],
      "metadata": {
        "colab": {
          "base_uri": "https://localhost:8080/",
          "height": 1000
        },
        "id": "Z2rnqYha_16J",
        "outputId": "c1cb5ebd-1f93-4d32-910b-0c8bd6ce9917"
      },
      "execution_count": 16,
      "outputs": [
        {
          "output_type": "display_data",
          "data": {
            "image/png": "[encoded data removed]",
            "text/plain": [
              "<Figure size 720x720 with 1 Axes>"
            ]
          },
          "metadata": {
            "needs_background": "light"
          }
        },
        {
          "output_type": "display_data",
          "data": {
            "image/png": "[encoded data removed]",
            "text/plain": [
              "<Figure size 720x720 with 1 Axes>"
            ]
          },
          "metadata": {
            "needs_background": "light"
          }
        },
        {
          "output_type": "display_data",
          "data": {
            "image/png": "[encoded data removed]",
            "text/plain": [
              "<Figure size 720x720 with 1 Axes>"
            ]
          },
          "metadata": {
            "needs_background": "light"
          }
        },
        {
          "output_type": "display_data",
          "data": {
            "image/png": "[encoded data removed]",
            "text/plain": [
              "<Figure size 720x720 with 1 Axes>"
            ]
          },
          "metadata": {
            "needs_background": "light"
          }
        },
        {
          "output_type": "display_data",
          "data": {
            "image/png": "[encoded data removed]",
            "text/plain": [
              "<Figure size 720x720 with 1 Axes>"
            ]
          },
          "metadata": {
            "needs_background": "light"
          }
        }
      ]
    },
    {
      "cell_type": "markdown",
      "source": [
        "##1.3 Extração de Textos"
      ],
      "metadata": {
        "id": "vyab3XJNRaFM"
      }
    },
    {
      "cell_type": "markdown",
      "source": [
        "Aqui será feito uma vetorização para extrair textos relevantes baseados nas reviews dos usuários para obter palavras chave e retornar uma matriz do tamanho de linhas do dataset e 50 componentes extraidos do texto. Vamos relacionar isso com a váriável \"verified\" para criar o modelo de classificação."
      ],
      "metadata": {
        "id": "yQcWeXSwRe1Q"
      }
    },
    {
      "cell_type": "code",
      "source": [
        "vectorizer = TfidfVectorizer(stop_words=\"english\", max_features=2000)\n",
        "X_vectorizer = vectorizer.fit_transform(df['reviewText'].apply(lambda x: np.str_(x)))"
      ],
      "metadata": {
        "id": "IeDzrPbeAG68"
      },
      "execution_count": 17,
      "outputs": []
    },
    {
      "cell_type": "code",
      "source": [
        "n_components = 50\n",
        "svd = TruncatedSVD(n_components=n_components)\n",
        "X_red = svd.fit_transform(X_vectorizer)\n",
        "df_cl = pd.DataFrame(X_red)"
      ],
      "metadata": {
        "id": "eRm2ElWQAomW"
      },
      "execution_count": 18,
      "outputs": []
    },
    {
      "cell_type": "code",
      "source": [
        "df_cl['target'] = df['verified']"
      ],
      "metadata": {
        "id": "eIlpB6daBF16"
      },
      "execution_count": 19,
      "outputs": []
    },
    {
      "cell_type": "code",
      "source": [
        "df_fl = df_cl.copy()"
      ],
      "metadata": {
        "id": "OXUdY9UM4nNK"
      },
      "execution_count": 20,
      "outputs": []
    },
    {
      "cell_type": "code",
      "source": [
        "df_fl.shape"
      ],
      "metadata": {
        "colab": {
          "base_uri": "https://localhost:8080/"
        },
        "id": "12417PlX4vtI",
        "outputId": "e22c6239-4901-47af-cbb3-f32748baef88"
      },
      "execution_count": 21,
      "outputs": [
        {
          "output_type": "execute_result",
          "data": {
            "text/plain": [
              "(467980, 51)"
            ]
          },
          "metadata": {},
          "execution_count": 21
        }
      ]
    },
    {
      "cell_type": "markdown",
      "source": [
        "Aqui vamos remover os nulos da coluna 'verified' para aplicação dos modelos, e após a obtenção dos melhores parâmetros, vamos retornar esses dados para não perdê-los"
      ],
      "metadata": {
        "id": "GCTiy_E6SJg7"
      }
    },
    {
      "cell_type": "code",
      "source": [
        "df_cl = df_cl.dropna()"
      ],
      "metadata": {
        "id": "L-_Dqhw2Bbll"
      },
      "execution_count": 22,
      "outputs": []
    },
    {
      "cell_type": "code",
      "source": [
        "df_cl.shape"
      ],
      "metadata": {
        "colab": {
          "base_uri": "https://localhost:8080/"
        },
        "id": "hd28SWSbBmLm",
        "outputId": "0ddaa0fd-c08f-4d65-c3a6-81fecb15b688"
      },
      "execution_count": 23,
      "outputs": [
        {
          "output_type": "execute_result",
          "data": {
            "text/plain": [
              "(396734, 51)"
            ]
          },
          "metadata": {},
          "execution_count": 23
        }
      ]
    },
    {
      "cell_type": "markdown",
      "source": [
        "#2. Modelo de Classificação"
      ],
      "metadata": {
        "id": "G26WLiTTR_xm"
      }
    },
    {
      "cell_type": "markdown",
      "source": [
        "Abaixo vamos extrair uma amostra do dataset e aplicar uma separação de dados de treino para aplicar o modelo e dados de teste para avaliar o modelo"
      ],
      "metadata": {
        "id": "1iFbk99cSEDs"
      }
    },
    {
      "cell_type": "code",
      "source": [
        "sample = 50000\n",
        "df_sample = df_cl.sample(sample)"
      ],
      "metadata": {
        "id": "UqFAckpoBtxT"
      },
      "execution_count": 24,
      "outputs": []
    },
    {
      "cell_type": "code",
      "source": [
        "X  = df_sample.drop(columns=[\"target\"])\n",
        "y  = df_sample[\"target\"]"
      ],
      "metadata": {
        "id": "orAFKKzuCk-H"
      },
      "execution_count": 25,
      "outputs": []
    },
    {
      "cell_type": "code",
      "source": [
        "X_train, X_test, y_train, y_test = train_test_split(X, y, test_size=0.2, random_state=42)\n",
        "print(f\"Shape X_train: {X_train.shape}\")\n",
        "print(f\"Shape y_train: {y_train.shape}\")\n",
        "print(f\"Shape X_test: {X_test.shape}\")\n",
        "print(f\"Shape y_test: {y_test.shape}\")"
      ],
      "metadata": {
        "colab": {
          "base_uri": "https://localhost:8080/"
        },
        "id": "7-ppHTofCp8b",
        "outputId": "ca5f5a30-83c6-4765-c2cb-d7057fd0d88e"
      },
      "execution_count": 26,
      "outputs": [
        {
          "output_type": "stream",
          "name": "stdout",
          "text": [
            "Shape X_train: (40000, 50)\n",
            "Shape y_train: (40000,)\n",
            "Shape X_test: (10000, 50)\n",
            "Shape y_test: (10000,)\n"
          ]
        }
      ]
    },
    {
      "cell_type": "code",
      "source": [
        "scores_list = []\n",
        "K_neighbors = range(1,15)\n",
        "\n",
        "for k in K_neighbors:\n",
        "\n",
        "  knn =  KNeighborsClassifier(n_neighbors=k)\n",
        "  knn.fit(X_train, y_train)\n",
        "  y_pred = knn.predict(X_test)\n",
        "  scores_list.append(accuracy_score(y_test, y_pred))"
      ],
      "metadata": {
        "id": "FadwblQGDHOe"
      },
      "execution_count": 27,
      "outputs": []
    },
    {
      "cell_type": "code",
      "source": [
        "plt.plot(K_neighbors, scores_list)\n",
        "plt.xlabel(\"Valor de K\")\n",
        "plt.ylabel(\"Acurácia\")"
      ],
      "metadata": {
        "colab": {
          "base_uri": "https://localhost:8080/",
          "height": 296
        },
        "id": "8UoZWvNrDTyd",
        "outputId": "76d08a4d-bfcb-4209-b466-42b6042b4e84"
      },
      "execution_count": 28,
      "outputs": [
        {
          "output_type": "execute_result",
          "data": {
            "text/plain": [
              "Text(0, 0.5, 'Acurácia')"
            ]
          },
          "metadata": {},
          "execution_count": 28
        },
        {
          "output_type": "display_data",
          "data": {
            "image/png": "[encoded data removed]",
            "text/plain": [
              "<Figure size 432x288 with 1 Axes>"
            ]
          },
          "metadata": {
            "needs_background": "light"
          }
        }
      ]
    },
    {
      "cell_type": "markdown",
      "source": [
        "Vamos utilizar diversos modelos de uma vez e listar aquele que tiver as melhores métricas de classificação (F1 Score, Precision, Accuracy, Recall)"
      ],
      "metadata": {
        "id": "cLIrfKa7Sfgu"
      }
    },
    {
      "cell_type": "code",
      "source": [
        "models = {\n",
        "    'KNN': KNeighborsClassifier(n_neighbors=11),\n",
        "    'LogisticRegression': LogisticRegression(),\n",
        "    'DecisionTreeClassifier': DecisionTreeClassifier(criterion=\"entropy\"),\n",
        "    'RandomForestClassifier': RandomForestClassifier(criterion='entropy', n_estimators=100),\n",
        "    'GaussianNB': GaussianNB(),\n",
        "    'SVC_Poly': SVC(kernel='poly'),\n",
        "    'SVC_Linear': SVC(kernel='linear'),\n",
        "    'MLPClassifier': MLPClassifier(hidden_layer_sizes=(100, 50, 20),activation='relu')}"
      ],
      "metadata": {
        "id": "u5IIEjhHEOPL"
      },
      "execution_count": 29,
      "outputs": []
    },
    {
      "cell_type": "code",
      "source": [
        "f1score_list    = []\n",
        "accuracy_list   = []\n",
        "recall_list     = []\n",
        "precission_list = []\n",
        "clf_list        = []\n",
        "\n",
        "for name, model in models.items():\n",
        "\n",
        "  clf = model\n",
        "  clf.fit(X_train,y_train)\n",
        "  y_pred = clf.predict(X_test)\n",
        "\n",
        "  accuracy  = round(accuracy_score(y_test, y_pred)*100,ndigits=2)\n",
        "  precision = round(precision_score(y_test, y_pred)*100,ndigits=2)\n",
        "  recall    = round(recall_score(y_test, y_pred)*100,ndigits=2)\n",
        "  f1score   = round(f1_score(y_test, y_pred)*100,ndigits=2)\n",
        "  f1score_list.append(accuracy)\n",
        "  accuracy_list.append(precision)\n",
        "  recall_list.append(recall)\n",
        "  precission_list.append(f1score)\n",
        "  clf_list.append(name)\n",
        "\n",
        "  print('------------------------------------------------------------------')\n",
        "  print(name)\n",
        "  print(f\"Acccuracy: {accuracy}%\")\n",
        "  print(f\"Precision: {precision}%\")\n",
        "  print(f\"Recall: {recall}%\")\n",
        "  print(f\"F1: {f1score}%\")\n",
        "\n",
        "  print(classification_report(y_test, y_pred))\n",
        "\n",
        "  plot_confusion_matrix(clf, X_test, y_test, display_labels=['not verified','verified'], values_format='d')\n",
        "  plt.grid(False)\n",
        "  plt.show()\n",
        "\n",
        "  plot_roc_curve(clf, X_test, y_test)\n",
        "  plt.show()\n",
        "  print('------------------------------------------------------------------')"
      ],
      "metadata": {
        "colab": {
          "base_uri": "https://localhost:8080/",
          "height": 1000
        },
        "id": "KpnkFGmnFEWE",
        "outputId": "efa66880-9c1f-423c-c3bf-d54555b83eff"
      },
      "execution_count": 30,
      "outputs": [
        {
          "output_type": "stream",
          "name": "stdout",
          "text": [
            "------------------------------------------------------------------\n",
            "KNN\n",
            "Acccuracy: 82.63%\n",
            "Precision: 86.28%\n",
            "Recall: 93.31%\n",
            "F1: 89.65%\n",
            "              precision    recall  f1-score   support\n",
            "\n",
            "         0.0       0.58      0.38      0.46      1934\n",
            "         1.0       0.86      0.93      0.90      8066\n",
            "\n",
            "    accuracy                           0.83     10000\n",
            "   macro avg       0.72      0.66      0.68     10000\n",
            "weighted avg       0.81      0.83      0.81     10000\n",
            "\n"
          ]
        },
        {
          "output_type": "stream",
          "name": "stderr",
          "text": [
            "/usr/local/lib/python3.7/dist-packages/sklearn/utils/deprecation.py:87: FutureWarning: Function plot_confusion_matrix is deprecated; Function `plot_confusion_matrix` is deprecated in 1.0 and will be removed in 1.2. Use one of the class methods: ConfusionMatrixDisplay.from_predictions or ConfusionMatrixDisplay.from_estimator.\n",
            "  warnings.warn(msg, category=FutureWarning)\n"
          ]
        },
        {
          "output_type": "display_data",
          "data": {
            "image/png": "[encoded data removed]",
            "text/plain": [
              "<Figure size 432x288 with 2 Axes>"
            ]
          },
          "metadata": {
            "needs_background": "light"
          }
        },
        {
          "output_type": "stream",
          "name": "stderr",
          "text": [
            "/usr/local/lib/python3.7/dist-packages/sklearn/utils/deprecation.py:87: FutureWarning: Function plot_roc_curve is deprecated; Function `plot_roc_curve` is deprecated in 1.0 and will be removed in 1.2. Use one of the class methods: RocCurveDisplay.from_predictions or RocCurveDisplay.from_estimator.\n",
            "  warnings.warn(msg, category=FutureWarning)\n"
          ]
        },
        {
          "output_type": "display_data",
          "data": {
            "image/png": "[encoded data removed]",
            "text/plain": [
              "<Figure size 432x288 with 1 Axes>"
            ]
          },
          "metadata": {
            "needs_background": "light"
          }
        },
        {
          "output_type": "stream",
          "name": "stdout",
          "text": [
            "------------------------------------------------------------------\n",
            "------------------------------------------------------------------\n",
            "LogisticRegression\n",
            "Acccuracy: 83.01%\n",
            "Precision: 84.72%\n",
            "Recall: 96.31%\n",
            "F1: 90.14%\n",
            "              precision    recall  f1-score   support\n",
            "\n",
            "         0.0       0.64      0.28      0.39      1934\n",
            "         1.0       0.85      0.96      0.90      8066\n",
            "\n",
            "    accuracy                           0.83     10000\n",
            "   macro avg       0.74      0.62      0.64     10000\n",
            "weighted avg       0.81      0.83      0.80     10000\n",
            "\n"
          ]
        },
        {
          "output_type": "stream",
          "name": "stderr",
          "text": [
            "/usr/local/lib/python3.7/dist-packages/sklearn/utils/deprecation.py:87: FutureWarning: Function plot_confusion_matrix is deprecated; Function `plot_confusion_matrix` is deprecated in 1.0 and will be removed in 1.2. Use one of the class methods: ConfusionMatrixDisplay.from_predictions or ConfusionMatrixDisplay.from_estimator.\n",
            "  warnings.warn(msg, category=FutureWarning)\n"
          ]
        },
        {
          "output_type": "display_data",
          "data": {
            "image/png": "[encoded data removed]",
            "text/plain": [
              "<Figure size 432x288 with 2 Axes>"
            ]
          },
          "metadata": {
            "needs_background": "light"
          }
        },
        {
          "output_type": "stream",
          "name": "stderr",
          "text": [
            "/usr/local/lib/python3.7/dist-packages/sklearn/utils/deprecation.py:87: FutureWarning: Function plot_roc_curve is deprecated; Function `plot_roc_curve` is deprecated in 1.0 and will be removed in 1.2. Use one of the class methods: RocCurveDisplay.from_predictions or RocCurveDisplay.from_estimator.\n",
            "  warnings.warn(msg, category=FutureWarning)\n"
          ]
        },
        {
          "output_type": "display_data",
          "data": {
            "image/png": "[encoded data removed]",
            "text/plain": [
              "<Figure size 432x288 with 1 Axes>"
            ]
          },
          "metadata": {
            "needs_background": "light"
          }
        },
        {
          "output_type": "stream",
          "name": "stdout",
          "text": [
            "------------------------------------------------------------------\n",
            "------------------------------------------------------------------\n",
            "DecisionTreeClassifier\n",
            "Acccuracy: 76.29%\n",
            "Precision: 85.62%\n",
            "Recall: 84.86%\n",
            "F1: 85.24%\n",
            "              precision    recall  f1-score   support\n",
            "\n",
            "         0.0       0.39      0.41      0.40      1934\n",
            "         1.0       0.86      0.85      0.85      8066\n",
            "\n",
            "    accuracy                           0.76     10000\n",
            "   macro avg       0.62      0.63      0.63     10000\n",
            "weighted avg       0.77      0.76      0.76     10000\n",
            "\n"
          ]
        },
        {
          "output_type": "stream",
          "name": "stderr",
          "text": [
            "/usr/local/lib/python3.7/dist-packages/sklearn/utils/deprecation.py:87: FutureWarning: Function plot_confusion_matrix is deprecated; Function `plot_confusion_matrix` is deprecated in 1.0 and will be removed in 1.2. Use one of the class methods: ConfusionMatrixDisplay.from_predictions or ConfusionMatrixDisplay.from_estimator.\n",
            "  warnings.warn(msg, category=FutureWarning)\n"
          ]
        },
        {
          "output_type": "display_data",
          "data": {
            "image/png": "[encoded data removed]",
            "text/plain": [
              "<Figure size 432x288 with 2 Axes>"
            ]
          },
          "metadata": {
            "needs_background": "light"
          }
        },
        {
          "output_type": "stream",
          "name": "stderr",
          "text": [
            "/usr/local/lib/python3.7/dist-packages/sklearn/utils/deprecation.py:87: FutureWarning: Function plot_roc_curve is deprecated; Function `plot_roc_curve` is deprecated in 1.0 and will be removed in 1.2. Use one of the class methods: RocCurveDisplay.from_predictions or RocCurveDisplay.from_estimator.\n",
            "  warnings.warn(msg, category=FutureWarning)\n"
          ]
        },
        {
          "output_type": "display_data",
          "data": {
            "image/png": "[encoded data removed]",
            "text/plain": [
              "<Figure size 432x288 with 1 Axes>"
            ]
          },
          "metadata": {
            "needs_background": "light"
          }
        },
        {
          "output_type": "stream",
          "name": "stdout",
          "text": [
            "------------------------------------------------------------------\n",
            "------------------------------------------------------------------\n",
            "RandomForestClassifier\n",
            "Acccuracy: 83.84%\n",
            "Precision: 86.05%\n",
            "Recall: 95.44%\n",
            "F1: 90.5%\n",
            "              precision    recall  f1-score   support\n",
            "\n",
            "         0.0       0.65      0.35      0.46      1934\n",
            "         1.0       0.86      0.95      0.91      8066\n",
            "\n",
            "    accuracy                           0.84     10000\n",
            "   macro avg       0.76      0.65      0.68     10000\n",
            "weighted avg       0.82      0.84      0.82     10000\n",
            "\n"
          ]
        },
        {
          "output_type": "stream",
          "name": "stderr",
          "text": [
            "/usr/local/lib/python3.7/dist-packages/sklearn/utils/deprecation.py:87: FutureWarning: Function plot_confusion_matrix is deprecated; Function `plot_confusion_matrix` is deprecated in 1.0 and will be removed in 1.2. Use one of the class methods: ConfusionMatrixDisplay.from_predictions or ConfusionMatrixDisplay.from_estimator.\n",
            "  warnings.warn(msg, category=FutureWarning)\n"
          ]
        },
        {
          "output_type": "display_data",
          "data": {
            "image/png": "[encoded data removed]",
            "text/plain": [
              "<Figure size 432x288 with 2 Axes>"
            ]
          },
          "metadata": {
            "needs_background": "light"
          }
        },
        {
          "output_type": "stream",
          "name": "stderr",
          "text": [
            "/usr/local/lib/python3.7/dist-packages/sklearn/utils/deprecation.py:87: FutureWarning: Function plot_roc_curve is deprecated; Function `plot_roc_curve` is deprecated in 1.0 and will be removed in 1.2. Use one of the class methods: RocCurveDisplay.from_predictions or RocCurveDisplay.from_estimator.\n",
            "  warnings.warn(msg, category=FutureWarning)\n"
          ]
        },
        {
          "output_type": "display_data",
          "data": {
            "image/png": "[encoded data removed]",
            "text/plain": [
              "<Figure size 432x288 with 1 Axes>"
            ]
          },
          "metadata": {
            "needs_background": "light"
          }
        },
        {
          "output_type": "stream",
          "name": "stdout",
          "text": [
            "------------------------------------------------------------------\n",
            "------------------------------------------------------------------\n",
            "GaussianNB\n",
            "Acccuracy: 55.53%\n",
            "Precision: 91.19%\n",
            "Recall: 49.67%\n",
            "F1: 64.31%\n",
            "              precision    recall  f1-score   support\n",
            "\n",
            "         0.0       0.28      0.80      0.41      1934\n",
            "         1.0       0.91      0.50      0.64      8066\n",
            "\n",
            "    accuracy                           0.56     10000\n",
            "   macro avg       0.59      0.65      0.53     10000\n",
            "weighted avg       0.79      0.56      0.60     10000\n",
            "\n"
          ]
        },
        {
          "output_type": "stream",
          "name": "stderr",
          "text": [
            "/usr/local/lib/python3.7/dist-packages/sklearn/utils/deprecation.py:87: FutureWarning: Function plot_confusion_matrix is deprecated; Function `plot_confusion_matrix` is deprecated in 1.0 and will be removed in 1.2. Use one of the class methods: ConfusionMatrixDisplay.from_predictions or ConfusionMatrixDisplay.from_estimator.\n",
            "  warnings.warn(msg, category=FutureWarning)\n"
          ]
        },
        {
          "output_type": "display_data",
          "data": {
            "image/png": "[encoded data removed]",
            "text/plain": [
              "<Figure size 432x288 with 2 Axes>"
            ]
          },
          "metadata": {
            "needs_background": "light"
          }
        },
        {
          "output_type": "stream",
          "name": "stderr",
          "text": [
            "/usr/local/lib/python3.7/dist-packages/sklearn/utils/deprecation.py:87: FutureWarning: Function plot_roc_curve is deprecated; Function `plot_roc_curve` is deprecated in 1.0 and will be removed in 1.2. Use one of the class methods: RocCurveDisplay.from_predictions or RocCurveDisplay.from_estimator.\n",
            "  warnings.warn(msg, category=FutureWarning)\n"
          ]
        },
        {
          "output_type": "display_data",
          "data": {
            "image/png": "[encoded data removed]",
            "text/plain": [
              "<Figure size 432x288 with 1 Axes>"
            ]
          },
          "metadata": {
            "needs_background": "light"
          }
        },
        {
          "output_type": "stream",
          "name": "stdout",
          "text": [
            "------------------------------------------------------------------\n",
            "------------------------------------------------------------------\n",
            "SVC_Poly\n",
            "Acccuracy: 82.88%\n",
            "Precision: 83.81%\n",
            "Recall: 97.64%\n",
            "F1: 90.2%\n",
            "              precision    recall  f1-score   support\n",
            "\n",
            "         0.0       0.68      0.21      0.32      1934\n",
            "         1.0       0.84      0.98      0.90      8066\n",
            "\n",
            "    accuracy                           0.83     10000\n",
            "   macro avg       0.76      0.59      0.61     10000\n",
            "weighted avg       0.81      0.83      0.79     10000\n",
            "\n"
          ]
        },
        {
          "output_type": "stream",
          "name": "stderr",
          "text": [
            "/usr/local/lib/python3.7/dist-packages/sklearn/utils/deprecation.py:87: FutureWarning: Function plot_confusion_matrix is deprecated; Function `plot_confusion_matrix` is deprecated in 1.0 and will be removed in 1.2. Use one of the class methods: ConfusionMatrixDisplay.from_predictions or ConfusionMatrixDisplay.from_estimator.\n",
            "  warnings.warn(msg, category=FutureWarning)\n"
          ]
        },
        {
          "output_type": "display_data",
          "data": {
            "image/png": "[encoded data removed]",
            "text/plain": [
              "<Figure size 432x288 with 2 Axes>"
            ]
          },
          "metadata": {
            "needs_background": "light"
          }
        },
        {
          "output_type": "stream",
          "name": "stderr",
          "text": [
            "/usr/local/lib/python3.7/dist-packages/sklearn/utils/deprecation.py:87: FutureWarning: Function plot_roc_curve is deprecated; Function `plot_roc_curve` is deprecated in 1.0 and will be removed in 1.2. Use one of the class methods: RocCurveDisplay.from_predictions or RocCurveDisplay.from_estimator.\n",
            "  warnings.warn(msg, category=FutureWarning)\n"
          ]
        },
        {
          "output_type": "display_data",
          "data": {
            "image/png": "[encoded data removed]",
            "text/plain": [
              "<Figure size 432x288 with 1 Axes>"
            ]
          },
          "metadata": {
            "needs_background": "light"
          }
        },
        {
          "output_type": "stream",
          "name": "stdout",
          "text": [
            "------------------------------------------------------------------\n",
            "------------------------------------------------------------------\n",
            "SVC_Linear\n",
            "Acccuracy: 80.72%\n",
            "Precision: 80.75%\n",
            "Recall: 99.93%\n",
            "F1: 89.32%\n",
            "              precision    recall  f1-score   support\n",
            "\n",
            "         0.0       0.67      0.01      0.01      1934\n",
            "         1.0       0.81      1.00      0.89      8066\n",
            "\n",
            "    accuracy                           0.81     10000\n",
            "   macro avg       0.74      0.50      0.45     10000\n",
            "weighted avg       0.78      0.81      0.72     10000\n",
            "\n"
          ]
        },
        {
          "output_type": "stream",
          "name": "stderr",
          "text": [
            "/usr/local/lib/python3.7/dist-packages/sklearn/utils/deprecation.py:87: FutureWarning: Function plot_confusion_matrix is deprecated; Function `plot_confusion_matrix` is deprecated in 1.0 and will be removed in 1.2. Use one of the class methods: ConfusionMatrixDisplay.from_predictions or ConfusionMatrixDisplay.from_estimator.\n",
            "  warnings.warn(msg, category=FutureWarning)\n"
          ]
        },
        {
          "output_type": "display_data",
          "data": {
            "image/png": "[encoded data removed]",
            "text/plain": [
              "<Figure size 432x288 with 2 Axes>"
            ]
          },
          "metadata": {
            "needs_background": "light"
          }
        },
        {
          "output_type": "stream",
          "name": "stderr",
          "text": [
            "/usr/local/lib/python3.7/dist-packages/sklearn/utils/deprecation.py:87: FutureWarning: Function plot_roc_curve is deprecated; Function `plot_roc_curve` is deprecated in 1.0 and will be removed in 1.2. Use one of the class methods: RocCurveDisplay.from_predictions or RocCurveDisplay.from_estimator.\n",
            "  warnings.warn(msg, category=FutureWarning)\n"
          ]
        },
        {
          "output_type": "display_data",
          "data": {
            "image/png": "[encoded data removed]",
            "text/plain": [
              "<Figure size 432x288 with 1 Axes>"
            ]
          },
          "metadata": {
            "needs_background": "light"
          }
        },
        {
          "output_type": "stream",
          "name": "stdout",
          "text": [
            "------------------------------------------------------------------\n"
          ]
        },
        {
          "output_type": "stream",
          "name": "stderr",
          "text": [
            "/usr/local/lib/python3.7/dist-packages/sklearn/neural_network/_multilayer_perceptron.py:696: ConvergenceWarning: Stochastic Optimizer: Maximum iterations (200) reached and the optimization hasn't converged yet.\n",
            "  ConvergenceWarning,\n"
          ]
        },
        {
          "output_type": "stream",
          "name": "stdout",
          "text": [
            "------------------------------------------------------------------\n",
            "MLPClassifier\n",
            "Acccuracy: 81.04%\n",
            "Precision: 85.96%\n",
            "Recall: 91.42%\n",
            "F1: 88.61%\n",
            "              precision    recall  f1-score   support\n",
            "\n",
            "         0.0       0.51      0.38      0.44      1934\n",
            "         1.0       0.86      0.91      0.89      8066\n",
            "\n",
            "    accuracy                           0.81     10000\n",
            "   macro avg       0.69      0.65      0.66     10000\n",
            "weighted avg       0.79      0.81      0.80     10000\n",
            "\n"
          ]
        },
        {
          "output_type": "stream",
          "name": "stderr",
          "text": [
            "/usr/local/lib/python3.7/dist-packages/sklearn/utils/deprecation.py:87: FutureWarning: Function plot_confusion_matrix is deprecated; Function `plot_confusion_matrix` is deprecated in 1.0 and will be removed in 1.2. Use one of the class methods: ConfusionMatrixDisplay.from_predictions or ConfusionMatrixDisplay.from_estimator.\n",
            "  warnings.warn(msg, category=FutureWarning)\n"
          ]
        },
        {
          "output_type": "display_data",
          "data": {
            "image/png": "[encoded data removed]",
            "text/plain": [
              "<Figure size 432x288 with 2 Axes>"
            ]
          },
          "metadata": {
            "needs_background": "light"
          }
        },
        {
          "output_type": "stream",
          "name": "stderr",
          "text": [
            "/usr/local/lib/python3.7/dist-packages/sklearn/utils/deprecation.py:87: FutureWarning: Function plot_roc_curve is deprecated; Function `plot_roc_curve` is deprecated in 1.0 and will be removed in 1.2. Use one of the class methods: RocCurveDisplay.from_predictions or RocCurveDisplay.from_estimator.\n",
            "  warnings.warn(msg, category=FutureWarning)\n"
          ]
        },
        {
          "output_type": "display_data",
          "data": {
            "image/png": "[encoded data removed]",
            "text/plain": [
              "<Figure size 432x288 with 1 Axes>"
            ]
          },
          "metadata": {
            "needs_background": "light"
          }
        },
        {
          "output_type": "stream",
          "name": "stdout",
          "text": [
            "------------------------------------------------------------------\n"
          ]
        }
      ]
    },
    {
      "cell_type": "code",
      "source": [
        "df_metricas = pd.DataFrame({'Classificador': clf_list, 'F1-Score': f1score_list, 'Accuracy': accuracy_list, 'Recall': recall_list, 'Precission': precission_list})\n",
        "df_metricas.sort_values(by='F1-Score', ascending=False)"
      ],
      "metadata": {
        "colab": {
          "base_uri": "https://localhost:8080/",
          "height": 297
        },
        "id": "zYtnIGeiFUdy",
        "outputId": "a2dad1ae-5cf1-4c92-ee37-2c5e6e8508ac"
      },
      "execution_count": 31,
      "outputs": [
        {
          "output_type": "execute_result",
          "data": {
            "text/html": [
              "<div>\n",
              "<style scoped>\n",
              "    .dataframe tbody tr th:only-of-type {\n",
              "        vertical-align: middle;\n",
              "    }\n",
              "\n",
              "    .dataframe tbody tr th {\n",
              "        vertical-align: top;\n",
              "    }\n",
              "\n",
              "    .dataframe thead th {\n",
              "        text-align: right;\n",
              "    }\n",
              "</style>\n",
              "<table border=\"1\" class=\"dataframe\">\n",
              "  <thead>\n",
              "    <tr style=\"text-align: right;\">\n",
              "      <th></th>\n",
              "      <th>Classificador</th>\n",
              "      <th>F1-Score</th>\n",
              "      <th>Accuracy</th>\n",
              "      <th>Recall</th>\n",
              "      <th>Precission</th>\n",
              "    </tr>\n",
              "  </thead>\n",
              "  <tbody>\n",
              "    <tr>\n",
              "      <th>3</th>\n",
              "      <td>RandomForestClassifier</td>\n",
              "      <td>83.84</td>\n",
              "      <td>86.05</td>\n",
              "      <td>95.44</td>\n",
              "      <td>90.50</td>\n",
              "    </tr>\n",
              "    <tr>\n",
              "      <th>1</th>\n",
              "      <td>LogisticRegression</td>\n",
              "      <td>83.01</td>\n",
              "      <td>84.72</td>\n",
              "      <td>96.31</td>\n",
              "      <td>90.14</td>\n",
              "    </tr>\n",
              "    <tr>\n",
              "      <th>5</th>\n",
              "      <td>SVC_Poly</td>\n",
              "      <td>82.88</td>\n",
              "      <td>83.81</td>\n",
              "      <td>97.64</td>\n",
              "      <td>90.20</td>\n",
              "    </tr>\n",
              "    <tr>\n",
              "      <th>0</th>\n",
              "      <td>KNN</td>\n",
              "      <td>82.63</td>\n",
              "      <td>86.28</td>\n",
              "      <td>93.31</td>\n",
              "      <td>89.65</td>\n",
              "    </tr>\n",
              "    <tr>\n",
              "      <th>7</th>\n",
              "      <td>MLPClassifier</td>\n",
              "      <td>81.04</td>\n",
              "      <td>85.96</td>\n",
              "      <td>91.42</td>\n",
              "      <td>88.61</td>\n",
              "    </tr>\n",
              "    <tr>\n",
              "      <th>6</th>\n",
              "      <td>SVC_Linear</td>\n",
              "      <td>80.72</td>\n",
              "      <td>80.75</td>\n",
              "      <td>99.93</td>\n",
              "      <td>89.32</td>\n",
              "    </tr>\n",
              "    <tr>\n",
              "      <th>2</th>\n",
              "      <td>DecisionTreeClassifier</td>\n",
              "      <td>76.29</td>\n",
              "      <td>85.62</td>\n",
              "      <td>84.86</td>\n",
              "      <td>85.24</td>\n",
              "    </tr>\n",
              "    <tr>\n",
              "      <th>4</th>\n",
              "      <td>GaussianNB</td>\n",
              "      <td>55.53</td>\n",
              "      <td>91.19</td>\n",
              "      <td>49.67</td>\n",
              "      <td>64.31</td>\n",
              "    </tr>\n",
              "  </tbody>\n",
              "</table>\n",
              "</div>"
            ],
            "text/plain": [
              "            Classificador  F1-Score  Accuracy  Recall  Precission\n",
              "3  RandomForestClassifier     83.84     86.05   95.44       90.50\n",
              "1      LogisticRegression     83.01     84.72   96.31       90.14\n",
              "5                SVC_Poly     82.88     83.81   97.64       90.20\n",
              "0                     KNN     82.63     86.28   93.31       89.65\n",
              "7           MLPClassifier     81.04     85.96   91.42       88.61\n",
              "6              SVC_Linear     80.72     80.75   99.93       89.32\n",
              "2  DecisionTreeClassifier     76.29     85.62   84.86       85.24\n",
              "4              GaussianNB     55.53     91.19   49.67       64.31"
            ]
          },
          "metadata": {},
          "execution_count": 31
        }
      ]
    },
    {
      "cell_type": "markdown",
      "source": [
        "##2.1 Hiperparametrização"
      ],
      "metadata": {
        "id": "nhK1SjyRSuCr"
      }
    },
    {
      "cell_type": "markdown",
      "source": [
        "Pelo quadro acima o modelo RandomForestClassifier obteve um F1 Score maior que os demais, mas é possível aplicar uma hiperparametrização para aumentar esse valor"
      ],
      "metadata": {
        "id": "rrVeWM_DS00I"
      }
    },
    {
      "cell_type": "code",
      "source": [
        "n_estimators = [100, 300, 600]\n",
        "max_depth = [2, 4 , 8]\n",
        "min_samples_split = [2, 5, 10]\n",
        "min_samples_leaf = [1, 2, 5]\n",
        "hypam = dict(n_estimators = n_estimators, max_depth = max_depth, min_samples_split = min_samples_split, min_samples_leaf = min_samples_leaf)"
      ],
      "metadata": {
        "id": "nr4gfhDxIKiq"
      },
      "execution_count": 32,
      "outputs": []
    },
    {
      "cell_type": "code",
      "source": [
        "model = RandomForestClassifier()\n",
        "rs = RandomizedSearchCV(model,hypam,cv = 3,verbose = 1,n_jobs = -1)\n",
        "rs.fit(X_train, y_train)"
      ],
      "metadata": {
        "colab": {
          "base_uri": "https://localhost:8080/"
        },
        "id": "PsoR0_6MIuMU",
        "outputId": "cc8c2097-60c4-4db8-939b-3d964c0da37a"
      },
      "execution_count": 33,
      "outputs": [
        {
          "output_type": "stream",
          "name": "stdout",
          "text": [
            "Fitting 3 folds for each of 10 candidates, totalling 30 fits\n"
          ]
        },
        {
          "output_type": "execute_result",
          "data": {
            "text/plain": [
              "RandomizedSearchCV(cv=3, estimator=RandomForestClassifier(), n_jobs=-1,\n",
              "                   param_distributions={'max_depth': [2, 4, 8],\n",
              "                                        'min_samples_leaf': [1, 2, 5],\n",
              "                                        'min_samples_split': [2, 5, 10],\n",
              "                                        'n_estimators': [100, 300, 600]},\n",
              "                   verbose=1)"
            ]
          },
          "metadata": {},
          "execution_count": 33
        }
      ]
    },
    {
      "cell_type": "code",
      "source": [
        "rs.best_params_"
      ],
      "metadata": {
        "colab": {
          "base_uri": "https://localhost:8080/"
        },
        "id": "g1e2w4yNI8fM",
        "outputId": "5e5c59c1-ce02-450b-f4b7-7b4b6e5d5d57"
      },
      "execution_count": 34,
      "outputs": [
        {
          "output_type": "execute_result",
          "data": {
            "text/plain": [
              "{'max_depth': 8,\n",
              " 'min_samples_leaf': 5,\n",
              " 'min_samples_split': 2,\n",
              " 'n_estimators': 100}"
            ]
          },
          "metadata": {},
          "execution_count": 34
        }
      ]
    },
    {
      "cell_type": "code",
      "source": [
        "best = rs.best_estimator_\n",
        "best.fit(X_train,y_train)\n",
        "y_pred = best.predict(X_test)\n",
        "f1score = round(np.mean(f1_score(y_test, y_pred,average=None))*100,ndigits=2)\n",
        "accuracy = round(accuracy_score(y_test, y_pred)*100,ndigits=2)\n",
        "precision = round(precision_score(y_test, y_pred)*100,ndigits=2)\n",
        "recall = round(recall_score(y_test, y_pred)*100,ndigits=2)\n",
        "f1score = round(f1_score(y_test, y_pred)*100,ndigits=2)\n",
        "\n",
        "print(f\"Acccuracy: {accuracy}%\")\n",
        "print(f\"Precision: {precision}%\")\n",
        "print(f\"Recall: {recall}%\")\n",
        "print(f\"F1: {f1score}%\")\n",
        "\n",
        "print(classification_report(y_test, y_pred))\n",
        "\n",
        "plot_confusion_matrix(clf, X_test, y_test, display_labels=['not verified','verified'], values_format='d')\n",
        "plt.grid(False)\n",
        "plt.show()\n",
        "\n",
        "plot_roc_curve(clf, X_test, y_test)\n",
        "plt.show()"
      ],
      "metadata": {
        "colab": {
          "base_uri": "https://localhost:8080/",
          "height": 850
        },
        "id": "9LJwFZTGQhno",
        "outputId": "8be77e83-0c94-474c-801b-2246f38d4a20"
      },
      "execution_count": 35,
      "outputs": [
        {
          "output_type": "stream",
          "name": "stdout",
          "text": [
            "Acccuracy: 82.9%\n",
            "Precision: 84.26%\n",
            "Recall: 96.9%\n",
            "F1: 90.14%\n",
            "              precision    recall  f1-score   support\n",
            "\n",
            "         0.0       0.65      0.25      0.36      1934\n",
            "         1.0       0.84      0.97      0.90      8066\n",
            "\n",
            "    accuracy                           0.83     10000\n",
            "   macro avg       0.75      0.61      0.63     10000\n",
            "weighted avg       0.81      0.83      0.80     10000\n",
            "\n"
          ]
        },
        {
          "output_type": "stream",
          "name": "stderr",
          "text": [
            "/usr/local/lib/python3.7/dist-packages/sklearn/utils/deprecation.py:87: FutureWarning: Function plot_confusion_matrix is deprecated; Function `plot_confusion_matrix` is deprecated in 1.0 and will be removed in 1.2. Use one of the class methods: ConfusionMatrixDisplay.from_predictions or ConfusionMatrixDisplay.from_estimator.\n",
            "  warnings.warn(msg, category=FutureWarning)\n"
          ]
        },
        {
          "output_type": "display_data",
          "data": {
            "image/png": "[encoded data removed]",
            "text/plain": [
              "<Figure size 432x288 with 2 Axes>"
            ]
          },
          "metadata": {
            "needs_background": "light"
          }
        },
        {
          "output_type": "stream",
          "name": "stderr",
          "text": [
            "/usr/local/lib/python3.7/dist-packages/sklearn/utils/deprecation.py:87: FutureWarning: Function plot_roc_curve is deprecated; Function `plot_roc_curve` is deprecated in 1.0 and will be removed in 1.2. Use one of the class methods: RocCurveDisplay.from_predictions or RocCurveDisplay.from_estimator.\n",
            "  warnings.warn(msg, category=FutureWarning)\n"
          ]
        },
        {
          "output_type": "display_data",
          "data": {
            "image/png": "[encoded data removed]",
            "text/plain": [
              "<Figure size 432x288 with 1 Axes>"
            ]
          },
          "metadata": {
            "needs_background": "light"
          }
        }
      ]
    },
    {
      "cell_type": "markdown",
      "source": [
        "##2.2 Testando toda a base de dados"
      ],
      "metadata": {
        "id": "nUkC9uUVR4Kd"
      }
    },
    {
      "cell_type": "markdown",
      "source": [
        "Vamos aplicar o melhor estimador para toda a base de dados, os dados faltantes de 'verified' serão substituídos por 0"
      ],
      "metadata": {
        "id": "XUpZJJhqTv0c"
      }
    },
    {
      "cell_type": "code",
      "source": [
        "df_fl.shape"
      ],
      "metadata": {
        "colab": {
          "base_uri": "https://localhost:8080/"
        },
        "id": "px9g23tnG5ZH",
        "outputId": "872131aa-6b6b-4536-a880-04e3834ae692"
      },
      "execution_count": 62,
      "outputs": [
        {
          "output_type": "execute_result",
          "data": {
            "text/plain": [
              "(467980, 52)"
            ]
          },
          "metadata": {},
          "execution_count": 62
        }
      ]
    },
    {
      "cell_type": "code",
      "source": [
        "df_full = df_fl.copy()\n",
        "df_full = df_full.fillna(0)\n",
        "\n",
        "X  = df_full.drop(columns=[\"target\"])\n",
        "y  = df_full[\"target\"]\n",
        "\n",
        "X_train, X_test, y_train, y_test = train_test_split(X, y, test_size=0.2, random_state=42)\n",
        "print(f\"Shape X_train: {X_train.shape}\")\n",
        "print(f\"Shape y_train: {y_train.shape}\")\n",
        "print(f\"Shape X_test: {X_test.shape}\")\n",
        "print(f\"Shape y_test: {y_test.shape}\")\n",
        "\n",
        "clf = rs.best_estimator_\n",
        "clf.fit(X_train,y_train)\n",
        "y_pred = clf.predict(X_test)\n",
        "\n",
        "f1score = round(np.mean(f1_score(y_test, y_pred,average=None))*100,ndigits=2)\n",
        "accuracy = round(accuracy_score(y_test, y_pred)*100,ndigits=2)\n",
        "precision = round(precision_score(y_test, y_pred)*100,ndigits=2)\n",
        "recall = round(recall_score(y_test, y_pred)*100,ndigits=2)\n",
        "f1score = round(f1_score(y_test, y_pred)*100,ndigits=2)\n",
        "\n",
        "print('------------------------------------------------------------------')\n",
        "print(f\"Acccuracy: {accuracy}%\")\n",
        "print(f\"Precision: {precision}%\")\n",
        "print(f\"Recall: {recall}%\")\n",
        "print(f\"F1: {f1score}%\")\n",
        "\n",
        "print(classification_report(y_test, y_pred))\n",
        "\n",
        "plot_confusion_matrix(clf, X_test, y_test, display_labels=['not verified','verified'], values_format='d')\n",
        "plt.grid(False)\n",
        "plt.show()\n",
        "\n",
        "plot_roc_curve(clf, X_test, y_test)\n",
        "plt.show()"
      ],
      "metadata": {
        "colab": {
          "base_uri": "https://localhost:8080/",
          "height": 939
        },
        "id": "dL1oKI2PQtfV",
        "outputId": "30e3351e-dc65-4cd3-d7a2-31799936ae15"
      },
      "execution_count": 37,
      "outputs": [
        {
          "output_type": "stream",
          "name": "stdout",
          "text": [
            "Shape X_train: (374384, 50)\n",
            "Shape y_train: (374384,)\n",
            "Shape X_test: (93596, 50)\n",
            "Shape y_test: (93596,)\n",
            "------------------------------------------------------------------\n",
            "Acccuracy: 72.63%\n",
            "Precision: 73.4%\n",
            "Recall: 94.02%\n",
            "F1: 82.44%\n",
            "              precision    recall  f1-score   support\n",
            "\n",
            "         0.0       0.67      0.26      0.38     29636\n",
            "         1.0       0.73      0.94      0.82     63960\n",
            "\n",
            "    accuracy                           0.73     93596\n",
            "   macro avg       0.70      0.60      0.60     93596\n",
            "weighted avg       0.71      0.73      0.68     93596\n",
            "\n"
          ]
        },
        {
          "output_type": "stream",
          "name": "stderr",
          "text": [
            "/usr/local/lib/python3.7/dist-packages/sklearn/utils/deprecation.py:87: FutureWarning: Function plot_confusion_matrix is deprecated; Function `plot_confusion_matrix` is deprecated in 1.0 and will be removed in 1.2. Use one of the class methods: ConfusionMatrixDisplay.from_predictions or ConfusionMatrixDisplay.from_estimator.\n",
            "  warnings.warn(msg, category=FutureWarning)\n"
          ]
        },
        {
          "output_type": "display_data",
          "data": {
            "image/png": "[encoded data removed]",
            "text/plain": [
              "<Figure size 432x288 with 2 Axes>"
            ]
          },
          "metadata": {
            "needs_background": "light"
          }
        },
        {
          "output_type": "stream",
          "name": "stderr",
          "text": [
            "/usr/local/lib/python3.7/dist-packages/sklearn/utils/deprecation.py:87: FutureWarning: Function plot_roc_curve is deprecated; Function `plot_roc_curve` is deprecated in 1.0 and will be removed in 1.2. Use one of the class methods: RocCurveDisplay.from_predictions or RocCurveDisplay.from_estimator.\n",
            "  warnings.warn(msg, category=FutureWarning)\n"
          ]
        },
        {
          "output_type": "display_data",
          "data": {
            "image/png": "[encoded data removed]",
            "text/plain": [
              "<Figure size 432x288 with 1 Axes>"
            ]
          },
          "metadata": {
            "needs_background": "light"
          }
        }
      ]
    },
    {
      "cell_type": "markdown",
      "source": [
        "Com a adição de toda a base de dados, houve uma queda do F1 Score para 82,44%, mas ainda é um modelo com boa precisão."
      ],
      "metadata": {
        "id": "itUdJUodT6ca"
      }
    },
    {
      "cell_type": "markdown",
      "source": [
        "#3. Modelo de recomendação"
      ],
      "metadata": {
        "id": "jM0xyrvsUFfi"
      }
    },
    {
      "cell_type": "markdown",
      "source": [
        "Abaixo será criado um modelo de recomendação simples baseado na soma de verificações dos usuários, num estilo de itens populares. Isso será feito juntando a base de \"\"verified\" da avaliação e \"asin\" que é o ID do item."
      ],
      "metadata": {
        "id": "d69Xi_EMUJDq"
      }
    },
    {
      "cell_type": "code",
      "source": [
        "X = df_full.drop(columns=[\"target\"])\n",
        "y_pred   = clf.predict(X)\n",
        "df_fl['class'] = y_pred"
      ],
      "metadata": {
        "id": "LwhgBV-gSSCh"
      },
      "execution_count": 39,
      "outputs": []
    },
    {
      "cell_type": "code",
      "source": [
        "df_rec = df[['asin','verified']].fillna(0)"
      ],
      "metadata": {
        "id": "Duk4O1NjZaYj"
      },
      "execution_count": 43,
      "outputs": []
    },
    {
      "cell_type": "code",
      "source": [
        "df_rec.shape"
      ],
      "metadata": {
        "colab": {
          "base_uri": "https://localhost:8080/"
        },
        "id": "c4vtAbCuZ9t3",
        "outputId": "4c14ce62-2ac1-4ecc-a268-86dee5985f8b"
      },
      "execution_count": 44,
      "outputs": [
        {
          "output_type": "execute_result",
          "data": {
            "text/plain": [
              "(467980, 2)"
            ]
          },
          "metadata": {},
          "execution_count": 44
        }
      ]
    },
    {
      "cell_type": "code",
      "source": [
        "df_rec['class'] = y_pred"
      ],
      "metadata": {
        "id": "fOEruVqjaDWp"
      },
      "execution_count": 45,
      "outputs": []
    },
    {
      "cell_type": "code",
      "source": [
        "df_rec.drop('verified',axis=1, inplace=True)"
      ],
      "metadata": {
        "id": "L0ogp3dUaiaz"
      },
      "execution_count": 46,
      "outputs": []
    },
    {
      "cell_type": "code",
      "source": [
        "df_rec.sample(5)"
      ],
      "metadata": {
        "colab": {
          "base_uri": "https://localhost:8080/",
          "height": 204
        },
        "id": "C29b1RPEantc",
        "outputId": "b1aad794-60ec-4c14-c99e-683c58d61baa"
      },
      "execution_count": 47,
      "outputs": [
        {
          "output_type": "execute_result",
          "data": {
            "text/html": [
              "<div>\n",
              "<style scoped>\n",
              "    .dataframe tbody tr th:only-of-type {\n",
              "        vertical-align: middle;\n",
              "    }\n",
              "\n",
              "    .dataframe tbody tr th {\n",
              "        vertical-align: top;\n",
              "    }\n",
              "\n",
              "    .dataframe thead th {\n",
              "        text-align: right;\n",
              "    }\n",
              "</style>\n",
              "<table border=\"1\" class=\"dataframe\">\n",
              "  <thead>\n",
              "    <tr style=\"text-align: right;\">\n",
              "      <th></th>\n",
              "      <th>asin</th>\n",
              "      <th>class</th>\n",
              "    </tr>\n",
              "  </thead>\n",
              "  <tbody>\n",
              "    <tr>\n",
              "      <th>86357</th>\n",
              "      <td>B00140P9BA</td>\n",
              "      <td>1.0</td>\n",
              "    </tr>\n",
              "    <tr>\n",
              "      <th>414157</th>\n",
              "      <td>B00Y8CQCXA</td>\n",
              "      <td>1.0</td>\n",
              "    </tr>\n",
              "    <tr>\n",
              "      <th>374330</th>\n",
              "      <td>B00MNP9PD8</td>\n",
              "      <td>1.0</td>\n",
              "    </tr>\n",
              "    <tr>\n",
              "      <th>390481</th>\n",
              "      <td>B00NW6T6CC</td>\n",
              "      <td>1.0</td>\n",
              "    </tr>\n",
              "    <tr>\n",
              "      <th>309898</th>\n",
              "      <td>B00GMFKYK8</td>\n",
              "      <td>1.0</td>\n",
              "    </tr>\n",
              "  </tbody>\n",
              "</table>\n",
              "</div>"
            ],
            "text/plain": [
              "              asin  class\n",
              "86357   B00140P9BA    1.0\n",
              "414157  B00Y8CQCXA    1.0\n",
              "374330  B00MNP9PD8    1.0\n",
              "390481  B00NW6T6CC    1.0\n",
              "309898  B00GMFKYK8    1.0"
            ]
          },
          "metadata": {},
          "execution_count": 47
        }
      ]
    },
    {
      "cell_type": "code",
      "source": [
        "df_sum = df_rec.groupby(by=['asin'], dropna=False,as_index=False).sum()"
      ],
      "metadata": {
        "id": "lZq4qqtYap5V"
      },
      "execution_count": 55,
      "outputs": []
    },
    {
      "cell_type": "code",
      "source": [
        "df_sum.columns = ['Produto','Total de Avaliações']"
      ],
      "metadata": {
        "id": "mQtDKia2ayvk"
      },
      "execution_count": 56,
      "outputs": []
    },
    {
      "cell_type": "code",
      "source": [
        "df_sum['Total de Avaliações'] = df_sum['Total de Avaliações'].astype('int')"
      ],
      "metadata": {
        "id": "lASflXDPa2Qs"
      },
      "execution_count": 57,
      "outputs": []
    },
    {
      "cell_type": "code",
      "source": [
        "df_sum.sample(5)"
      ],
      "metadata": {
        "colab": {
          "base_uri": "https://localhost:8080/",
          "height": 204
        },
        "id": "QGYB9ddZa50V",
        "outputId": "dd245516-431f-41b3-afc0-390c5b835e67"
      },
      "execution_count": 58,
      "outputs": [
        {
          "output_type": "execute_result",
          "data": {
            "text/html": [
              "<div>\n",
              "<style scoped>\n",
              "    .dataframe tbody tr th:only-of-type {\n",
              "        vertical-align: middle;\n",
              "    }\n",
              "\n",
              "    .dataframe tbody tr th {\n",
              "        vertical-align: top;\n",
              "    }\n",
              "\n",
              "    .dataframe thead th {\n",
              "        text-align: right;\n",
              "    }\n",
              "</style>\n",
              "<table border=\"1\" class=\"dataframe\">\n",
              "  <thead>\n",
              "    <tr style=\"text-align: right;\">\n",
              "      <th></th>\n",
              "      <th>Produto</th>\n",
              "      <th>Total de Avaliações</th>\n",
              "    </tr>\n",
              "  </thead>\n",
              "  <tbody>\n",
              "    <tr>\n",
              "      <th>83</th>\n",
              "      <td>B0050SVNZ8</td>\n",
              "      <td>1334</td>\n",
              "    </tr>\n",
              "    <tr>\n",
              "      <th>38</th>\n",
              "      <td>B0011E4J2Y</td>\n",
              "      <td>1292</td>\n",
              "    </tr>\n",
              "    <tr>\n",
              "      <th>64</th>\n",
              "      <td>B002BSA3EM</td>\n",
              "      <td>1801</td>\n",
              "    </tr>\n",
              "    <tr>\n",
              "      <th>170</th>\n",
              "      <td>B00FWK8UWI</td>\n",
              "      <td>1970</td>\n",
              "    </tr>\n",
              "    <tr>\n",
              "      <th>46</th>\n",
              "      <td>B00166N6SA</td>\n",
              "      <td>1421</td>\n",
              "    </tr>\n",
              "  </tbody>\n",
              "</table>\n",
              "</div>"
            ],
            "text/plain": [
              "        Produto  Total de Avaliações\n",
              "83   B0050SVNZ8                 1334\n",
              "38   B0011E4J2Y                 1292\n",
              "64   B002BSA3EM                 1801\n",
              "170  B00FWK8UWI                 1970\n",
              "46   B00166N6SA                 1421"
            ]
          },
          "metadata": {},
          "execution_count": 58
        }
      ]
    },
    {
      "cell_type": "code",
      "source": [
        "import random\n",
        "vet_prod  = df_sum['Produto'].unique()\n",
        "prod_id   =  random.randint(0,vet_prod.shape[0])\n",
        "prod_name = vet_prod[prod_id]"
      ],
      "metadata": {
        "id": "ql-BCW7qbVch"
      },
      "execution_count": 59,
      "outputs": []
    },
    {
      "cell_type": "code",
      "source": [
        "mask = df_sum['Produto'] == prod_name\n",
        "df_result = df_sum[mask]\n",
        "\n",
        "if(df_result.shape[0]>0):\n",
        "\n",
        "  display(df_result)\n",
        "\n",
        "else:\n",
        "\n",
        "  display(df_sum.sort_values(by='Total de Avaliações', ascending=False).head(10))"
      ],
      "metadata": {
        "colab": {
          "base_uri": "https://localhost:8080/",
          "height": 80
        },
        "id": "v5nriKKubjk0",
        "outputId": "ba5cf134-bb9b-4a5c-da72-b7cef3c5a74c"
      },
      "execution_count": 63,
      "outputs": [
        {
          "output_type": "display_data",
          "data": {
            "text/html": [
              "<div>\n",
              "<style scoped>\n",
              "    .dataframe tbody tr th:only-of-type {\n",
              "        vertical-align: middle;\n",
              "    }\n",
              "\n",
              "    .dataframe tbody tr th {\n",
              "        vertical-align: top;\n",
              "    }\n",
              "\n",
              "    .dataframe thead th {\n",
              "        text-align: right;\n",
              "    }\n",
              "</style>\n",
              "<table border=\"1\" class=\"dataframe\">\n",
              "  <thead>\n",
              "    <tr style=\"text-align: right;\">\n",
              "      <th></th>\n",
              "      <th>Produto</th>\n",
              "      <th>Total de Avaliações</th>\n",
              "    </tr>\n",
              "  </thead>\n",
              "  <tbody>\n",
              "    <tr>\n",
              "      <th>31</th>\n",
              "      <td>B000XGJH1O</td>\n",
              "      <td>1034</td>\n",
              "    </tr>\n",
              "  </tbody>\n",
              "</table>\n",
              "</div>"
            ],
            "text/plain": [
              "       Produto  Total de Avaliações\n",
              "31  B000XGJH1O                 1034"
            ]
          },
          "metadata": {}
        }
      ]
    },
    {
      "cell_type": "markdown",
      "source": [
        "Caso o produto não esteja na base de dados, ele retorna o top 10 itens mais populares"
      ],
      "metadata": {
        "id": "mUNexmWeUSR5"
      }
    },
    {
      "cell_type": "code",
      "source": [
        "mask = df_sum['Produto'] == 'ID Inexistente'\n",
        "df_result = df_sum[mask]\n",
        "\n",
        "if(df_result.shape[0]>0):\n",
        "\n",
        "  display(df_result)\n",
        "\n",
        "else:\n",
        "\n",
        "  display(df_sum.sort_values(by='Total de Avaliações', ascending=False).head(10))"
      ],
      "metadata": {
        "colab": {
          "base_uri": "https://localhost:8080/",
          "height": 359
        },
        "id": "YO0ZR2DxbnkB",
        "outputId": "3cda7479-43a7-4eb5-d9a6-7baa163b1185"
      },
      "execution_count": 61,
      "outputs": [
        {
          "output_type": "display_data",
          "data": {
            "text/html": [
              "<div>\n",
              "<style scoped>\n",
              "    .dataframe tbody tr th:only-of-type {\n",
              "        vertical-align: middle;\n",
              "    }\n",
              "\n",
              "    .dataframe tbody tr th {\n",
              "        vertical-align: top;\n",
              "    }\n",
              "\n",
              "    .dataframe thead th {\n",
              "        text-align: right;\n",
              "    }\n",
              "</style>\n",
              "<table border=\"1\" class=\"dataframe\">\n",
              "  <thead>\n",
              "    <tr style=\"text-align: right;\">\n",
              "      <th></th>\n",
              "      <th>Produto</th>\n",
              "      <th>Total de Avaliações</th>\n",
              "    </tr>\n",
              "  </thead>\n",
              "  <tbody>\n",
              "    <tr>\n",
              "      <th>176</th>\n",
              "      <td>B00HTK1NCS</td>\n",
              "      <td>6461</td>\n",
              "    </tr>\n",
              "    <tr>\n",
              "      <th>80</th>\n",
              "      <td>B004RMK57U</td>\n",
              "      <td>5122</td>\n",
              "    </tr>\n",
              "    <tr>\n",
              "      <th>191</th>\n",
              "      <td>B00KKAQYXM</td>\n",
              "      <td>4359</td>\n",
              "    </tr>\n",
              "    <tr>\n",
              "      <th>9</th>\n",
              "      <td>B00009OY9U</td>\n",
              "      <td>4004</td>\n",
              "    </tr>\n",
              "    <tr>\n",
              "      <th>184</th>\n",
              "      <td>B00JJNQG98</td>\n",
              "      <td>3959</td>\n",
              "    </tr>\n",
              "    <tr>\n",
              "      <th>74</th>\n",
              "      <td>B003ZSP0WW</td>\n",
              "      <td>3953</td>\n",
              "    </tr>\n",
              "    <tr>\n",
              "      <th>156</th>\n",
              "      <td>B00E4MQODC</td>\n",
              "      <td>3520</td>\n",
              "    </tr>\n",
              "    <tr>\n",
              "      <th>12</th>\n",
              "      <td>B000B9RI14</td>\n",
              "      <td>3333</td>\n",
              "    </tr>\n",
              "    <tr>\n",
              "      <th>149</th>\n",
              "      <td>B00DBDPOZ4</td>\n",
              "      <td>3161</td>\n",
              "    </tr>\n",
              "    <tr>\n",
              "      <th>28</th>\n",
              "      <td>B000VJRU44</td>\n",
              "      <td>3142</td>\n",
              "    </tr>\n",
              "  </tbody>\n",
              "</table>\n",
              "</div>"
            ],
            "text/plain": [
              "        Produto  Total de Avaliações\n",
              "176  B00HTK1NCS                 6461\n",
              "80   B004RMK57U                 5122\n",
              "191  B00KKAQYXM                 4359\n",
              "9    B00009OY9U                 4004\n",
              "184  B00JJNQG98                 3959\n",
              "74   B003ZSP0WW                 3953\n",
              "156  B00E4MQODC                 3520\n",
              "12   B000B9RI14                 3333\n",
              "149  B00DBDPOZ4                 3161\n",
              "28   B000VJRU44                 3142"
            ]
          },
          "metadata": {}
        }
      ]
    },
    {
      "cell_type": "code",
      "source": [
        ""
      ],
      "metadata": {
        "id": "D5cwDSAqM9cj"
      },
      "execution_count": null,
      "outputs": []
    }
  ]
}